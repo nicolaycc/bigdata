{
 "cells": [
  {
   "attachments": {},
   "cell_type": "markdown",
   "metadata": {},
   "source": [
    "# ML NLP\n",
    "La evaluación consiste en realizar un análisis de NLP, siguiendo la guía planteada en clase y realizando los procesos de limpieza, tokenización, y Part of Speech.\n",
    "\n",
    "Se realizar el proceso con el siguiente conjunto de datos\n",
    "https://www.kaggle.com/datasets/luisdiegofv97/imdb-dataset-of-50k-movie-reviews-spanish\n",
    "\n",
    "Entregables\n",
    "- Enviar el notebook con todas las celdas ejecutadas\n",
    "- Usar los review en español definidos en el conjunto\n",
    "- Realizar el proceso con una muestra del 10% del conjunto de datos\n",
    "- Realizar el proceso con el 100% del conjunto de datos\n",
    "- Realizar la comparación entre los resultado del 10% y del 100%"
   ]
  },
  {
   "cell_type": "code",
   "execution_count": null,
   "metadata": {},
   "outputs": [
    {
     "name": "stderr",
     "output_type": "stream",
     "text": [
      "[nltk_data] Downloading package punkt to /Users/nicolaycc/nltk_data...\n",
      "[nltk_data]   Package punkt is already up-to-date!\n"
     ]
    },
    {
     "data": {
      "text/plain": [
       "True"
      ]
     },
     "metadata": {},
     "output_type": "display_data"
    }
   ],
   "source": [
    "#librerias necesarias para el análisis\n",
    "import gzip\n",
    "import json\n",
    "import string\n",
    "import re\n",
    "import time\n",
    "\n",
    "import numpy as np                                                               \n",
    "import matplotlib.pyplot as plt\n",
    "\n",
    "import nltk # imports the natural language toolkit\n",
    "import pandas as pd\n",
    "import plotly\n",
    "\n",
    "from collections import Counter\n",
    "from datetime import datetime\n",
    "from sklearn.feature_extraction.text import CountVectorizer\n",
    "\n",
    "nltk.download('punkt') ## Tokenizer"
   ]
  },
  {
   "attachments": {},
   "cell_type": "markdown",
   "metadata": {},
   "source": [
    "## Lectura de la información\n"
   ]
  },
  {
   "attachments": {},
   "cell_type": "markdown",
   "metadata": {},
   "source": [
    "Para verificar el formato de los registros podemos revisar el archivo verificando los primeros items. Como se puede observar el archivo no corresponde a una estructura csv (separado por comas) o algo similar, cada registro se encuentra delimitado por `{ }` y para cada atributo se tiene la forma:\n",
    "\"ATRIBUTO\" : \"VALOR\"."
   ]
  },
  {
   "attachments": {},
   "cell_type": "markdown",
   "metadata": {},
   "source": [
    "### Lectura del archivo en formato csv"
   ]
  },
  {
   "attachments": {},
   "cell_type": "markdown",
   "metadata": {},
   "source": [
    "Pandas cuenta con método de lectura de archivos en formato csv\n",
    "Lo primero que debemos realizar es una lectura del archivo, teniendo la instrucción, se realiza la lectura del 100% de los datos."
   ]
  },
  {
   "cell_type": "code",
   "execution_count": null,
   "metadata": {},
   "outputs": [],
   "source": [
    "df = pd.read_csv('datasets/IMDB Dataset SPANISH.csv', index_col=0)"
   ]
  },
  {
   "attachments": {},
   "cell_type": "markdown",
   "metadata": {},
   "source": [
    "Para extraer una muestra del 10% de los datos se ejecuta el siguiente comando, es importante notar que se asigna el argumento `random_state` para que siempre que se ejecute el programa obtengamos como resultado la misma muestra porque utilizamos la misma semilla."
   ]
  },
  {
   "cell_type": "code",
   "execution_count": null,
   "metadata": {},
   "outputs": [],
   "source": [
    "df10 = df.sample(frac=0.1, random_state=123)"
   ]
  },
  {
   "attachments": {},
   "cell_type": "markdown",
   "metadata": {},
   "source": [
    "#### Exploración general del conjunto de datos\n",
    "\n",
    "El archivo cuenta con 4 columnas de información, en particular las de mas interés en este caso son review_es que contiene las reviews realizadas por los usuarios y sentimiento, que es el sentimiento del usuario con respecto a la película."
   ]
  },
  {
   "cell_type": "code",
   "execution_count": null,
   "metadata": {},
   "outputs": [
    {
     "data": {
      "text/html": [
       "<div>\n",
       "<style scoped>\n",
       "    .dataframe tbody tr th:only-of-type {\n",
       "        vertical-align: middle;\n",
       "    }\n",
       "\n",
       "    .dataframe tbody tr th {\n",
       "        vertical-align: top;\n",
       "    }\n",
       "\n",
       "    .dataframe thead th {\n",
       "        text-align: right;\n",
       "    }\n",
       "</style>\n",
       "<table border=\"1\" class=\"dataframe\">\n",
       "  <thead>\n",
       "    <tr style=\"text-align: right;\">\n",
       "      <th></th>\n",
       "      <th>review_en</th>\n",
       "      <th>review_es</th>\n",
       "      <th>sentiment</th>\n",
       "      <th>sentimiento</th>\n",
       "    </tr>\n",
       "  </thead>\n",
       "  <tbody>\n",
       "    <tr>\n",
       "      <th>0</th>\n",
       "      <td>One of the other reviewers has mentioned that ...</td>\n",
       "      <td>Uno de los otros críticos ha mencionado que de...</td>\n",
       "      <td>positive</td>\n",
       "      <td>positivo</td>\n",
       "    </tr>\n",
       "    <tr>\n",
       "      <th>1</th>\n",
       "      <td>A wonderful little production. The filming tec...</td>\n",
       "      <td>Una pequeña pequeña producción.La técnica de f...</td>\n",
       "      <td>positive</td>\n",
       "      <td>positivo</td>\n",
       "    </tr>\n",
       "    <tr>\n",
       "      <th>2</th>\n",
       "      <td>I thought this was a wonderful way to spend ti...</td>\n",
       "      <td>Pensé que esta era una manera maravillosa de p...</td>\n",
       "      <td>positive</td>\n",
       "      <td>positivo</td>\n",
       "    </tr>\n",
       "    <tr>\n",
       "      <th>3</th>\n",
       "      <td>Basically there's a family where a little boy ...</td>\n",
       "      <td>Básicamente, hay una familia donde un niño peq...</td>\n",
       "      <td>negative</td>\n",
       "      <td>negativo</td>\n",
       "    </tr>\n",
       "    <tr>\n",
       "      <th>4</th>\n",
       "      <td>Petter Mattei's \"Love in the Time of Money\" is...</td>\n",
       "      <td>El \"amor en el tiempo\" de Petter Mattei es una...</td>\n",
       "      <td>positive</td>\n",
       "      <td>positivo</td>\n",
       "    </tr>\n",
       "  </tbody>\n",
       "</table>\n",
       "</div>"
      ],
      "text/plain": [
       "                                           review_en   \n",
       "0  One of the other reviewers has mentioned that ...  \\\n",
       "1  A wonderful little production. The filming tec...   \n",
       "2  I thought this was a wonderful way to spend ti...   \n",
       "3  Basically there's a family where a little boy ...   \n",
       "4  Petter Mattei's \"Love in the Time of Money\" is...   \n",
       "\n",
       "                                           review_es sentiment sentimiento  \n",
       "0  Uno de los otros críticos ha mencionado que de...  positive    positivo  \n",
       "1  Una pequeña pequeña producción.La técnica de f...  positive    positivo  \n",
       "2  Pensé que esta era una manera maravillosa de p...  positive    positivo  \n",
       "3  Básicamente, hay una familia donde un niño peq...  negative    negativo  \n",
       "4  El \"amor en el tiempo\" de Petter Mattei es una...  positive    positivo  "
      ]
     },
     "metadata": {},
     "output_type": "display_data"
    }
   ],
   "source": [
    "df.head()"
   ]
  },
  {
   "attachments": {},
   "cell_type": "markdown",
   "metadata": {},
   "source": [
    "Para analizar mejor el conjunto de datos se revisan las frecuencias de ocurrencia de estas evaluaciones, es decir cuales son las proporciones de calificaciones en cada escala."
   ]
  },
  {
   "cell_type": "code",
   "execution_count": null,
   "metadata": {},
   "outputs": [
    {
     "data": {
      "text/html": [
       "<div>\n",
       "<style scoped>\n",
       "    .dataframe tbody tr th:only-of-type {\n",
       "        vertical-align: middle;\n",
       "    }\n",
       "\n",
       "    .dataframe tbody tr th {\n",
       "        vertical-align: top;\n",
       "    }\n",
       "\n",
       "    .dataframe thead th {\n",
       "        text-align: right;\n",
       "    }\n",
       "</style>\n",
       "<table border=\"1\" class=\"dataframe\">\n",
       "  <thead>\n",
       "    <tr style=\"text-align: right;\">\n",
       "      <th></th>\n",
       "      <th>review_es</th>\n",
       "    </tr>\n",
       "    <tr>\n",
       "      <th>sentimiento</th>\n",
       "      <th></th>\n",
       "    </tr>\n",
       "  </thead>\n",
       "  <tbody>\n",
       "    <tr>\n",
       "      <th>negativo</th>\n",
       "      <td>25000</td>\n",
       "    </tr>\n",
       "    <tr>\n",
       "      <th>positivo</th>\n",
       "      <td>25000</td>\n",
       "    </tr>\n",
       "  </tbody>\n",
       "</table>\n",
       "</div>"
      ],
      "text/plain": [
       "             review_es\n",
       "sentimiento           \n",
       "negativo         25000\n",
       "positivo         25000"
      ]
     },
     "metadata": {},
     "output_type": "display_data"
    }
   ],
   "source": [
    "#100% de los datos\n",
    "frecuencias = df[['review_es', 'sentimiento']].groupby(['sentimiento']).count()\n",
    "frecuencias"
   ]
  },
  {
   "cell_type": "code",
   "execution_count": null,
   "metadata": {},
   "outputs": [
    {
     "data": {
      "text/html": [
       "<div>\n",
       "<style scoped>\n",
       "    .dataframe tbody tr th:only-of-type {\n",
       "        vertical-align: middle;\n",
       "    }\n",
       "\n",
       "    .dataframe tbody tr th {\n",
       "        vertical-align: top;\n",
       "    }\n",
       "\n",
       "    .dataframe thead th {\n",
       "        text-align: right;\n",
       "    }\n",
       "</style>\n",
       "<table border=\"1\" class=\"dataframe\">\n",
       "  <thead>\n",
       "    <tr style=\"text-align: right;\">\n",
       "      <th></th>\n",
       "      <th>review_es</th>\n",
       "    </tr>\n",
       "    <tr>\n",
       "      <th>sentimiento</th>\n",
       "      <th></th>\n",
       "    </tr>\n",
       "  </thead>\n",
       "  <tbody>\n",
       "    <tr>\n",
       "      <th>negativo</th>\n",
       "      <td>2481</td>\n",
       "    </tr>\n",
       "    <tr>\n",
       "      <th>positivo</th>\n",
       "      <td>2519</td>\n",
       "    </tr>\n",
       "  </tbody>\n",
       "</table>\n",
       "</div>"
      ],
      "text/plain": [
       "             review_es\n",
       "sentimiento           \n",
       "negativo          2481\n",
       "positivo          2519"
      ]
     },
     "metadata": {},
     "output_type": "display_data"
    }
   ],
   "source": [
    "#10% de los datos\n",
    "frecuencias10 = df10[['review_es', 'sentimiento']].groupby(['sentimiento']).count()\n",
    "frecuencias10\n"
   ]
  },
  {
   "attachments": {},
   "cell_type": "markdown",
   "metadata": {},
   "source": [
    "Realizando una gráfica de barras de las frecuencias de ocurrencia, podemos ver con mayor facilidad la proporción de cada una de las calificaciones"
   ]
  },
  {
   "cell_type": "code",
   "execution_count": null,
   "metadata": {},
   "outputs": [
    {
     "data": {
      "image/png": "[encoded data removed]",
      "text/plain": [
       "<Figure size 1100x500 with 2 Axes>"
      ]
     },
     "metadata": {},
     "output_type": "display_data"
    }
   ],
   "source": [
    "#Generar la figura\n",
    "fig, (ax1, ax2) = plt.subplots(ncols=2, figsize=(11, 5))\n",
    "\n",
    "#generar los diagramas de barras\n",
    "frecuencias.plot(kind='bar', ax=ax1, color='#C9D95E', edgecolor='black')\n",
    "frecuencias10.plot(kind='bar', ax=ax2, color='#B19CD9', edgecolor='black')\n",
    "\n",
    "#Asignar propiedades\n",
    "for i, v in enumerate(frecuencias.values):\n",
    "    ax1.annotate(str(v), xy=(i, v*1.06), ha='center', va='top')\n",
    "ax1.set_title('Frecuencia con el 100% de los datos')\n",
    "ax1.set_xlabel('Sentimiento')\n",
    "ax1.set_ylabel('Frecuencia')\n",
    "ax1.set_ylim(0, frecuencias.values.max() * 1.2)\n",
    "\n",
    "\n",
    "for i, v in enumerate(frecuencias10.values):\n",
    "    ax2.annotate(str(v), xy=(i, v*1.06), ha='center', va='top')\n",
    "ax2.set_title('Frecuencia con el 10% de los datos')\n",
    "ax2.set_xlabel('Sentimiento')\n",
    "ax2.set_ylabel('Frecuencia')\n",
    "ax2.set_ylim(0, frecuencias10.values.max() * 1.2)\n",
    "\n",
    "#mostrar grafico\n",
    "plt.show()\n"
   ]
  },
  {
   "attachments": {},
   "cell_type": "markdown",
   "metadata": {},
   "source": [
    "**En el diagrama de barras anterior podemos observar que la frecuencia de ocurrencia del sentimiento positivo y negativo es muy similar. Así también, con el conjunto de datos reducido (10% del total) encontramos que la distribución es muy similar. Las proporciones se mantienen muy similares en todo sentido.**"
   ]
  },
  {
   "attachments": {},
   "cell_type": "markdown",
   "metadata": {},
   "source": [
    "Otro proceso adicional consiste en calcular el número de caracteres de cada review (que tanto escriben en la critica los usuarios) y posteriormente realizar algunos análisis a partir de esa longitud."
   ]
  },
  {
   "cell_type": "code",
   "execution_count": null,
   "metadata": {},
   "outputs": [
    {
     "data": {
      "text/html": [
       "<div>\n",
       "<style scoped>\n",
       "    .dataframe tbody tr th:only-of-type {\n",
       "        vertical-align: middle;\n",
       "    }\n",
       "\n",
       "    .dataframe tbody tr th {\n",
       "        vertical-align: top;\n",
       "    }\n",
       "\n",
       "    .dataframe thead th {\n",
       "        text-align: right;\n",
       "    }\n",
       "</style>\n",
       "<table border=\"1\" class=\"dataframe\">\n",
       "  <thead>\n",
       "    <tr style=\"text-align: right;\">\n",
       "      <th></th>\n",
       "      <th>review_en</th>\n",
       "      <th>review_es</th>\n",
       "      <th>sentiment</th>\n",
       "      <th>sentimiento</th>\n",
       "      <th>reviewlen</th>\n",
       "    </tr>\n",
       "  </thead>\n",
       "  <tbody>\n",
       "    <tr>\n",
       "      <th>0</th>\n",
       "      <td>One of the other reviewers has mentioned that ...</td>\n",
       "      <td>Uno de los otros críticos ha mencionado que de...</td>\n",
       "      <td>positive</td>\n",
       "      <td>positivo</td>\n",
       "      <td>2004</td>\n",
       "    </tr>\n",
       "    <tr>\n",
       "      <th>1</th>\n",
       "      <td>A wonderful little production. The filming tec...</td>\n",
       "      <td>Una pequeña pequeña producción.La técnica de f...</td>\n",
       "      <td>positive</td>\n",
       "      <td>positivo</td>\n",
       "      <td>1061</td>\n",
       "    </tr>\n",
       "    <tr>\n",
       "      <th>2</th>\n",
       "      <td>I thought this was a wonderful way to spend ti...</td>\n",
       "      <td>Pensé que esta era una manera maravillosa de p...</td>\n",
       "      <td>positive</td>\n",
       "      <td>positivo</td>\n",
       "      <td>989</td>\n",
       "    </tr>\n",
       "    <tr>\n",
       "      <th>3</th>\n",
       "      <td>Basically there's a family where a little boy ...</td>\n",
       "      <td>Básicamente, hay una familia donde un niño peq...</td>\n",
       "      <td>negative</td>\n",
       "      <td>negativo</td>\n",
       "      <td>790</td>\n",
       "    </tr>\n",
       "    <tr>\n",
       "      <th>4</th>\n",
       "      <td>Petter Mattei's \"Love in the Time of Money\" is...</td>\n",
       "      <td>El \"amor en el tiempo\" de Petter Mattei es una...</td>\n",
       "      <td>positive</td>\n",
       "      <td>positivo</td>\n",
       "      <td>1406</td>\n",
       "    </tr>\n",
       "  </tbody>\n",
       "</table>\n",
       "</div>"
      ],
      "text/plain": [
       "                                           review_en   \n",
       "0  One of the other reviewers has mentioned that ...  \\\n",
       "1  A wonderful little production. The filming tec...   \n",
       "2  I thought this was a wonderful way to spend ti...   \n",
       "3  Basically there's a family where a little boy ...   \n",
       "4  Petter Mattei's \"Love in the Time of Money\" is...   \n",
       "\n",
       "                                           review_es sentiment sentimiento   \n",
       "0  Uno de los otros críticos ha mencionado que de...  positive    positivo  \\\n",
       "1  Una pequeña pequeña producción.La técnica de f...  positive    positivo   \n",
       "2  Pensé que esta era una manera maravillosa de p...  positive    positivo   \n",
       "3  Básicamente, hay una familia donde un niño peq...  negative    negativo   \n",
       "4  El \"amor en el tiempo\" de Petter Mattei es una...  positive    positivo   \n",
       "\n",
       "   reviewlen  \n",
       "0       2004  \n",
       "1       1061  \n",
       "2        989  \n",
       "3        790  \n",
       "4       1406  "
      ]
     },
     "metadata": {},
     "output_type": "display_data"
    }
   ],
   "source": [
    "df.insert(loc=4, column= 'reviewlen', value= df['review_es'].str.len() )\n",
    "df.head()\n"
   ]
  },
  {
   "attachments": {},
   "cell_type": "markdown",
   "metadata": {},
   "source": [
    "## Limpieza del texto\n",
    "Se deben limpiar las columnas que se vayan a utilizar para garantizar un correcto procesamiento de los datos. Para esto se define la función clean y se ejecuta en el conjunto de datos."
   ]
  },
  {
   "cell_type": "code",
   "execution_count": null,
   "metadata": {},
   "outputs": [],
   "source": [
    "def clean_text(text):\n",
    "  text = re.sub(r'^RT[\\s]+', '', text)\n",
    "  text = re.sub(r'https?:\\/\\/.*[\\r\\n]*', '', text)\n",
    "  text = re.sub(r'#', '', text)\n",
    "  text = re.sub(r'@[A-Za-z0-9]+', '', text)\n",
    "  return text"
   ]
  },
  {
   "cell_type": "code",
   "execution_count": null,
   "metadata": {},
   "outputs": [
    {
     "data": {
      "text/plain": [
       "0        Uno de los otros críticos ha mencionado que de...\n",
       "1        Una pequeña pequeña producción.La técnica de f...\n",
       "2        Pensé que esta era una manera maravillosa de p...\n",
       "3        Básicamente, hay una familia donde un niño peq...\n",
       "4        El \"amor en el tiempo\" de Petter Mattei es una...\n",
       "                               ...                        \n",
       "49995    Pensé que esta película hizo un buen trabajo a...\n",
       "49996    Mala parcela, mal diálogo, mala actuación, dir...\n",
       "49997    Soy católica enseñada en escuelas primarias pa...\n",
       "49998    Voy a tener que estar en desacuerdo con el com...\n",
       "49999    Nadie espera que las películas de Star Trek se...\n",
       "Name: review_es, Length: 50000, dtype: object"
      ]
     },
     "metadata": {},
     "output_type": "display_data"
    }
   ],
   "source": [
    "df['review_es'] = df['review_es'].apply(clean_text)\n",
    "df['review_es']"
   ]
  },
  {
   "cell_type": "code",
   "execution_count": null,
   "metadata": {},
   "outputs": [
    {
     "data": {
      "text/plain": [
       "11872    Esta película fue más allá de lo horrible, fue...\n",
       "40828    A partir de esto, escribir el 'Halloween' de J...\n",
       "36400    I must admit a slight disappointment with this...\n",
       "5166     Oh dear! The BBC is not about to be knocked of...\n",
       "30273    Es una película totalmente promedio con alguna...\n",
       "                               ...                        \n",
       "35438    Matt Cordell está de vuelta de entre los muert...\n",
       "34278    Me gustó esta película, linda y divertida. Enc...\n",
       "42135    Bettie Page fue un icono de la década de 1950 ...\n",
       "21497    Así que las primeras cosas son las primeras .....\n",
       "25894    Compré este juego en eBay, habiendo escuchado ...\n",
       "Name: review_es, Length: 5000, dtype: object"
      ]
     },
     "metadata": {},
     "output_type": "display_data"
    }
   ],
   "source": [
    "df10['review_es'] = df10['review_es'].apply(clean_text)\n",
    "df10['review_es']"
   ]
  },
  {
   "attachments": {},
   "cell_type": "markdown",
   "metadata": {},
   "source": [
    "--- "
   ]
  },
  {
   "attachments": {},
   "cell_type": "markdown",
   "metadata": {},
   "source": [
    "# NLP (Procesamiento Natural del Lenguaje)"
   ]
  },
  {
   "attachments": {},
   "cell_type": "markdown",
   "metadata": {},
   "source": [
    "Para realizar procesamiento natural del lenguaje existen varias librerías, Spacy y NLTK son dos de las más usadas, en este caso vamos a realizar los ejercicios con NLTK.\n",
    "\n",
    "Un proceso de NLP regularmente contiene una combinación de los siguientes procesos:\n",
    "\n",
    "- Tokenización (separar las oraciones en palabras) - TFIDF\n",
    "- Bag of words (Identificar la cantidad de veces que se repite cada palabra en un texto)\n",
    "- Eliminar stop words (Remover palabras que no aportan significado intrínseco)\n",
    "- Stemming (Eliminar sufijos o prefijos) Play**ing** -> Play\n",
    "- Lemmatization (Reducir las palabras a su forma básica) Caring --> Care\n",
    "- Topic Modeling (Latent Dirichlet Allocation - Aprendizaje no supervisado), Una palabra puede ser asignada a mas de un tópico.\n",
    "\n",
    "    |   |   |\n",
    "    |------------------------|------------|\n",
    "    | Me gusta comer fruta al desayuno | TOPIC 1 |\n",
    "    | El mejor lugar para ver un Panda es China | TOPIC 2 |\n",
    "    | Vi a un Panda comiendo fruta | TOPIC 1 50% , 50% TOPIC 2 |\n",
    "\n",
    "\n",
    "Ref. https://towardsdatascience.com/your-guide-to-natural-language-processing-nlp-48ea2511f6e1"
   ]
  },
  {
   "attachments": {},
   "cell_type": "markdown",
   "metadata": {},
   "source": [
    "En este ejercicio en particular comenzaremos con un proceso de Tokenización, y posteriormente identificaremos las palabras definidas como stop words en inglés para eliminarlas del análisis."
   ]
  },
  {
   "cell_type": "code",
   "execution_count": null,
   "metadata": {},
   "outputs": [],
   "source": [
    "#loading libraries\n",
    "\n",
    "from nltk.corpus import stopwords \n",
    "from nltk.tokenize import RegexpTokenizer\n",
    "from functools import partial"
   ]
  },
  {
   "attachments": {},
   "cell_type": "markdown",
   "metadata": {},
   "source": [
    "El objetivo es analizar como se comportan los usuarios que escriben comentarios acerca de las películas y cual es la relación entre esos comentarios y la calificación que le otorgan a la pelicula."
   ]
  },
  {
   "attachments": {},
   "cell_type": "markdown",
   "metadata": {},
   "source": [
    "## Tokenizer \n",
    "- Lo primero que debemos hacer para realizar un análisis de NLP es un proceso de Tokenización, es decir, separar las oraciones en palabras. Para esto usaremos el método RegexpTokenizer de nltk y el uso de Regex (Expresiones regulares).\n",
    "\n",
    "    >https://regex101.com/r/JPcNjC/1\n"
   ]
  },
  {
   "cell_type": "code",
   "execution_count": null,
   "metadata": {},
   "outputs": [],
   "source": [
    "# Functions to process the reviews\n",
    "\n",
    "tokenizer = RegexpTokenizer(r'\\w+')"
   ]
  },
  {
   "attachments": {},
   "cell_type": "markdown",
   "metadata": {},
   "source": [
    "- El segundo paso consiste en eliminar las palabras que se conocen como stopwords, son palabras que permiten hacer conexiones entre ideas, en principio que no aportan un significado por si solas, ej. aquí, allá, cuando, hasta."
   ]
  },
  {
   "cell_type": "code",
   "execution_count": null,
   "metadata": {},
   "outputs": [
    {
     "name": "stderr",
     "output_type": "stream",
     "text": [
      "[nltk_data] Downloading package stopwords to\n",
      "[nltk_data]     /Users/nicolaycc/nltk_data...\n",
      "[nltk_data]   Package stopwords is already up-to-date!\n"
     ]
    },
    {
     "data": {
      "text/plain": [
       "True"
      ]
     },
     "metadata": {},
     "output_type": "display_data"
    }
   ],
   "source": [
    "#descarga de las stop words\n",
    "nltk.download('stopwords')"
   ]
  },
  {
   "cell_type": "code",
   "execution_count": null,
   "metadata": {},
   "outputs": [],
   "source": [
    "stopword_set = set(stopwords.words('spanish')) #asignación para el idioma español"
   ]
  },
  {
   "attachments": {},
   "cell_type": "markdown",
   "metadata": {},
   "source": [
    "### Funciones para procesar los reviews"
   ]
  },
  {
   "cell_type": "code",
   "execution_count": null,
   "metadata": {},
   "outputs": [],
   "source": [
    "\n",
    "def extract_reviews(bagtoprocess):\n",
    "    return bagtoprocess.lower()\n",
    "                            \n",
    "def checkif_stopword(word, stopwords):\n",
    "    return word not in stopwords\n",
    "\n",
    "def filter_stopwords(tokens, stopwords):\n",
    "    return list(filter(partial(checkif_stopword, stopwords=stopwords), tokens))\n",
    "            \n"
   ]
  },
  {
   "attachments": {},
   "cell_type": "markdown",
   "metadata": {},
   "source": [
    "Usando las funciones previamente definidas realizamos el proceso de tokenización y eliminación de stop words para cada reseña realizada por los usuarios."
   ]
  },
  {
   "cell_type": "code",
   "execution_count": null,
   "metadata": {},
   "outputs": [],
   "source": [
    "# 100% de los datos\n",
    "texto_critica = df['review_es'].squeeze() #convertir en una serie de Python\n",
    "texto_critica_minusculas = texto_critica.map(extract_reviews) #all text in lower\n",
    "texto_tokens = texto_critica_minusculas.map(tokenizer.tokenize) #just words\n",
    "texto_limpio = texto_tokens.map(partial(filter_stopwords, stopwords=stopword_set)) #filtering stopwords"
   ]
  },
  {
   "cell_type": "code",
   "execution_count": null,
   "metadata": {},
   "outputs": [],
   "source": [
    "# 10% de los datos\n",
    "texto_critica10 = df10['review_es'].squeeze() #convertir en una serie de Python\n",
    "texto_critica_minusculas10 = texto_critica10.map(extract_reviews) #all text in lower\n",
    "texto_tokens10 = texto_critica_minusculas10.map(tokenizer.tokenize) #just words\n",
    "texto_limpio10 = texto_tokens10.map(partial(filter_stopwords, stopwords=stopword_set)) #filtering stopwords"
   ]
  },
  {
   "cell_type": "code",
   "execution_count": null,
   "metadata": {},
   "outputs": [
    {
     "name": "stdout",
     "output_type": "stream",
     "text": [
      "0    [críticos, mencionado, después, ver, solo, 1, ...\n",
      "1    [pequeña, pequeña, producción, técnica, filmac...\n",
      "2    [pensé, manera, maravillosa, pasar, tiempo, fi...\n",
      "3    [básicamente, familia, niño, pequeño, jake, pi...\n",
      "4    [amor, tiempo, petter, mattei, película, visua...\n",
      "Name: review_es, dtype: object\n",
      "50000\n"
     ]
    }
   ],
   "source": [
    "#100% de los datos\n",
    "print(texto_limpio.head())\n",
    "print(len(texto_limpio))"
   ]
  },
  {
   "cell_type": "code",
   "execution_count": null,
   "metadata": {},
   "outputs": [
    {
     "name": "stdout",
     "output_type": "stream",
     "text": [
      "11872    [película, allá, horrible, grano, s, industria...\n",
      "40828    [partir, escribir, halloween, john, carpenter,...\n",
      "36400    [i, must, admit, slight, disappointment, with,...\n",
      "5166     [oh, dear, the, bbc, is, not, about, to, be, k...\n",
      "30273    [película, totalmente, promedio, secuencias, a...\n",
      "Name: review_es, dtype: object\n",
      "5000\n"
     ]
    }
   ],
   "source": [
    "#10% de los datos\n",
    "print(texto_limpio10.head())\n",
    "print(len(texto_limpio10))"
   ]
  },
  {
   "attachments": {},
   "cell_type": "markdown",
   "metadata": {},
   "source": [
    "### Resultado de la Tokenización\n",
    "Para ver el resultado de un comentario tokenizado, y con las stopwords eliminadas vamos a imprimir el primer ejemplo."
   ]
  },
  {
   "cell_type": "code",
   "execution_count": null,
   "metadata": {},
   "outputs": [
    {
     "name": "stdout",
     "output_type": "stream",
     "text": [
      "Uno de los otros críticos ha mencionado que después de ver solo 1 Oz Episodio, estará enganchado. Tienen razón, ya que esto es exactamente lo que sucedió conmigo. La primera cosa que me golpeó sobre Oz fue su brutalidad y sus escenas de violencia inconfiadas, que se encuentran a la derecha de la palabra. Confía en mí, este no es un espectáculo para los débiles de corazón o tímido. Este espectáculo no extrae punzones con respecto a las drogas, el sexo o la violencia. Es Hardcore, en el uso clásico de la palabra. Se llama OZ, ya que es el apodo dado al Penitenciario del Estado de Seguridad Máximo de Oswald. Se centra principalmente en la ciudad de Emeralda, una sección experimental de la prisión donde todas las células tienen frentes de vidrio y se enfrentan hacia adentro, por lo que la privacidad no es alta en la agenda. Em City es el hogar de muchos ... Fariarios, musulmanes, gangstas, latinos, cristianos, italianos, irlandeses y más ... así que las esposas, las miradas de muerte, las relaciones peligrosas y los acuerdos sombreados nunca están lejos. Yo diría el principal atractivo de El espectáculo se debe al hecho de que va donde otros espectáculos no se atreverían. Olvídate de las imágenes bonitas pintadas para las audiencias convencionales, olvidan el encanto, olviden el romance ... Oz no se mete. El primer episodio que he visto me sorprendió tan desagradable que fue surrealista, no podía decir que estaba listo para ello, pero cuando observé más, desarrollé un gusto por Oz, y me acostumbré a los altos niveles de violencia gráfica. No solo la violencia, sino la injusticia (Guardias torcidas que se vendrán por un níquel, los reclusos que se matarán en orden y se alejarán con él, de manera educada, los reclusos de clase media se convirtieron en perras de la prisión debido a su falta de habilidades callejeras O experiencia en la prisión) viendo oz, puede sentirse cómodo con lo que es incómodo visualización ... eso es si puedes ponerte en contacto con tu lado más oscuro. \n",
      "\n",
      "['críticos', 'mencionado', 'después', 'ver', 'solo', '1', 'oz', 'episodio', 'enganchado', 'razón', 'exactamente', 'sucedió', 'conmigo', 'primera', 'cosa', 'golpeó', 'oz', 'brutalidad', 'escenas', 'violencia', 'inconfiadas', 'encuentran', 'derecha', 'palabra', 'confía', 'espectáculo', 'débiles', 'corazón', 'tímido', 'espectáculo', 'extrae', 'punzones', 'respecto', 'drogas', 'sexo', 'violencia', 'hardcore', 'uso', 'clásico', 'palabra', 'llama', 'oz', 'apodo', 'dado', 'penitenciario', 'seguridad', 'máximo', 'oswald', 'centra', 'principalmente', 'ciudad', 'emeralda', 'sección', 'experimental', 'prisión', 'todas', 'células', 'frentes', 'vidrio', 'enfrentan', 'hacia', 'adentro', 'privacidad', 'alta', 'agenda', 'em', 'city', 'hogar', 'fariarios', 'musulmanes', 'gangstas', 'latinos', 'cristianos', 'italianos', 'irlandeses', 'así', 'esposas', 'miradas', 'muerte', 'relaciones', 'peligrosas', 'acuerdos', 'sombreados', 'nunca', 'lejos', 'diría', 'principal', 'atractivo', 'espectáculo', 'debe', 'hecho', 'va', 'espectáculos', 'atreverían', 'olvídate', 'imágenes', 'bonitas', 'pintadas', 'audiencias', 'convencionales', 'olvidan', 'encanto', 'olviden', 'romance', 'oz', 'mete', 'primer', 'episodio', 'visto', 'sorprendió', 'tan', 'desagradable', 'surrealista', 'podía', 'decir', 'listo', 'ello', 'observé', 'desarrollé', 'gusto', 'oz', 'acostumbré', 'altos', 'niveles', 'violencia', 'gráfica', 'solo', 'violencia', 'sino', 'injusticia', 'guardias', 'torcidas', 'vendrán', 'níquel', 'reclusos', 'matarán', 'orden', 'alejarán', 'manera', 'educada', 'reclusos', 'clase', 'media', 'convirtieron', 'perras', 'prisión', 'debido', 'falta', 'habilidades', 'callejeras', 'experiencia', 'prisión', 'viendo', 'oz', 'puede', 'sentirse', 'cómodo', 'incómodo', 'visualización', 'si', 'puedes', 'ponerte', 'contacto', 'lado', 'oscuro']\n"
     ]
    }
   ],
   "source": [
    "print(texto_critica[0], '\\n')\n",
    "print(texto_limpio[0])"
   ]
  },
  {
   "attachments": {},
   "cell_type": "markdown",
   "metadata": {},
   "source": [
    "Teniendo en cuenta el objetivo (comparar entre comentarios positivos y negativos), y ahora que conocemos el concepto de tokenización, nos vamos a apoyar en la **librería de sklearn** de extracción de texto y la función **CountVectorizer**, que básicamente realiza el contenido de los tokens (palabras) para una serie de textos, en este caso, la columna que contiene los comentarios de los usuarios."
   ]
  },
  {
   "cell_type": "code",
   "execution_count": null,
   "metadata": {},
   "outputs": [],
   "source": [
    "from sklearn.feature_extraction.text import CountVectorizer\n",
    "#Convert a collection of text documents to a matrix of token counts.\n",
    "\n",
    "def get_top_n_words(corpus, n=1, k=1):\n",
    "    vec = CountVectorizer(ngram_range=(k, k), stop_words=stopwords.words('spanish'))\n",
    "    bag_of_words = vec.fit_transform(corpus)\n",
    "    sum_words = bag_of_words.sum(axis=0) \n",
    "    words_freq = [(word, sum_words[0, idx]) for word, idx in vec.vocabulary_.items()]\n",
    "    words_freq = sorted(words_freq, key=lambda x: x[1], reverse=True)\n",
    "    return words_freq[:n]"
   ]
  },
  {
   "attachments": {},
   "cell_type": "markdown",
   "metadata": {},
   "source": [
    "Como se mencionó inicialmente, normalmente el proceso de NLP involucra Tokenizar y calcular la frecuencia de las palabras. A partir de la función definida, calculamos la frecuencia de las palabras mas relevantes."
   ]
  },
  {
   "cell_type": "code",
   "execution_count": null,
   "metadata": {},
   "outputs": [
    {
     "name": "stdout",
     "output_type": "stream",
     "text": [
      "Para el 100% de los datos:\n",
      "película 151817\n",
      "the 52405\n",
      "si 35193\n",
      "solo 28777\n",
      "películas 28690\n",
      "ser 26121\n",
      "historia 26087\n",
      "tan 24929\n",
      "ver 24198\n",
      "and 23718\n",
      "realmente 23187\n",
      "of 23111\n",
      "to 20755\n",
      "vez 19785\n",
      "bien 17866\n",
      "mejor 17551\n",
      "gran 16960\n",
      "puede 16030\n",
      "hace 15640\n",
      "tiempo 15390\n"
     ]
    }
   ],
   "source": [
    "# 100% de los datos\n",
    "print(\"Para el 100% de los datos:\")\n",
    "common_words = get_top_n_words(df[\"review_es\"], 20, 1)\n",
    "for word, freq in common_words:\n",
    "    print(word, freq)"
   ]
  },
  {
   "cell_type": "code",
   "execution_count": null,
   "metadata": {},
   "outputs": [
    {
     "name": "stdout",
     "output_type": "stream",
     "text": [
      "Para el 10% de los datos:\n",
      "película 15247\n",
      "the 4694\n",
      "si 3542\n",
      "solo 2900\n",
      "películas 2879\n",
      "ser 2651\n",
      "tan 2634\n",
      "historia 2587\n",
      "ver 2422\n",
      "realmente 2337\n",
      "of 2139\n",
      "and 2069\n",
      "vez 1947\n",
      "bien 1831\n",
      "gran 1813\n",
      "mejor 1806\n",
      "to 1806\n",
      "puede 1620\n",
      "hace 1548\n",
      "tiempo 1515\n"
     ]
    }
   ],
   "source": [
    "print(\"Para el 10% de los datos:\")\n",
    "common_words10 = get_top_n_words(df10[\"review_es\"], 20, 1)\n",
    "for word, freq in common_words10:\n",
    "    print(word, freq)"
   ]
  },
  {
   "attachments": {},
   "cell_type": "markdown",
   "metadata": {},
   "source": [
    "Si graficamos lo encontrado anteriormente:"
   ]
  },
  {
   "cell_type": "code",
   "execution_count": null,
   "metadata": {},
   "outputs": [
    {
     "data": {
      "image/png": "[encoded data removed]",
      "text/plain": [
       "<Figure size 1300x500 with 2 Axes>"
      ]
     },
     "metadata": {},
     "output_type": "display_data"
    }
   ],
   "source": [
    "#DataFrames\n",
    "df_top_words = pd.DataFrame(common_words, columns=[\"words\", \"count\"]) #100% datos\n",
    "df_top_words10 = pd.DataFrame(common_words10, columns=[\"words\", \"count\"]) #10% datos\n",
    "\n",
    "# Graficar el primer DataFrame\n",
    "plt.figure(figsize=(13, 5))\n",
    "plt.subplot(1, 2, 1)\n",
    "df_top_words.groupby(\"words\").sum()[\"count\"].sort_values(ascending=False).head(20).plot(\n",
    "    kind=\"bar\", title=\"Top 20 palabras de las críticas en español (100% datos)\",color='#C9D95E', edgecolor='black'\n",
    ")\n",
    "plt.xlabel(\"Palabras\")\n",
    "plt.ylabel(\"Frecuencia\")\n",
    "\n",
    "# Graficar el segundo DataFrame\n",
    "plt.subplot(1, 2, 2)\n",
    "df_top_words10.groupby(\"words\").sum()[\"count\"].sort_values(ascending=False).head(20).plot(\n",
    "    kind=\"bar\", title=\"Top 20 palabras de las críticas en español (10% datos)\",color='#B19CD9', edgecolor='black'\n",
    ")\n",
    "plt.xlabel(\"Palabras\")\n",
    "plt.ylabel(\"Frecuencia\")\n",
    "\n",
    "# Mostrar la figura\n",
    "plt.show()\n"
   ]
  },
  {
   "attachments": {},
   "cell_type": "markdown",
   "metadata": {},
   "source": [
    "Conclusión: **Se puede observar que los datos siguen la misma distribución en el conjunto del 100% y del 10%. En ambos casos la palabra que aparece con mayor frecuencia en la review es *pelicula*, así también, esta palabra se repite de una manera considerablemente mayor con respecto al resto.**"
   ]
  },
  {
   "attachments": {},
   "cell_type": "markdown",
   "metadata": {},
   "source": [
    "Ahora vamos a separar nuestro conjunto de datos, de acuerdo a un nuevo criterio definido de comentarios positivos con una calificación mayor a 3 y negativos con calificación inferior a 2.1"
   ]
  },
  {
   "cell_type": "code",
   "execution_count": null,
   "metadata": {},
   "outputs": [
    {
     "data": {
      "text/html": [
       "<div>\n",
       "<style scoped>\n",
       "    .dataframe tbody tr th:only-of-type {\n",
       "        vertical-align: middle;\n",
       "    }\n",
       "\n",
       "    .dataframe tbody tr th {\n",
       "        vertical-align: top;\n",
       "    }\n",
       "\n",
       "    .dataframe thead th {\n",
       "        text-align: right;\n",
       "    }\n",
       "</style>\n",
       "<table border=\"1\" class=\"dataframe\">\n",
       "  <thead>\n",
       "    <tr style=\"text-align: right;\">\n",
       "      <th></th>\n",
       "      <th>review_en</th>\n",
       "      <th>review_es</th>\n",
       "      <th>sentiment</th>\n",
       "      <th>sentimiento</th>\n",
       "      <th>reviewlen</th>\n",
       "    </tr>\n",
       "  </thead>\n",
       "  <tbody>\n",
       "    <tr>\n",
       "      <th>0</th>\n",
       "      <td>One of the other reviewers has mentioned that ...</td>\n",
       "      <td>Uno de los otros críticos ha mencionado que de...</td>\n",
       "      <td>positive</td>\n",
       "      <td>positivo</td>\n",
       "      <td>2004</td>\n",
       "    </tr>\n",
       "    <tr>\n",
       "      <th>1</th>\n",
       "      <td>A wonderful little production. The filming tec...</td>\n",
       "      <td>Una pequeña pequeña producción.La técnica de f...</td>\n",
       "      <td>positive</td>\n",
       "      <td>positivo</td>\n",
       "      <td>1061</td>\n",
       "    </tr>\n",
       "    <tr>\n",
       "      <th>2</th>\n",
       "      <td>I thought this was a wonderful way to spend ti...</td>\n",
       "      <td>Pensé que esta era una manera maravillosa de p...</td>\n",
       "      <td>positive</td>\n",
       "      <td>positivo</td>\n",
       "      <td>989</td>\n",
       "    </tr>\n",
       "    <tr>\n",
       "      <th>3</th>\n",
       "      <td>Basically there's a family where a little boy ...</td>\n",
       "      <td>Básicamente, hay una familia donde un niño peq...</td>\n",
       "      <td>negative</td>\n",
       "      <td>negativo</td>\n",
       "      <td>790</td>\n",
       "    </tr>\n",
       "    <tr>\n",
       "      <th>4</th>\n",
       "      <td>Petter Mattei's \"Love in the Time of Money\" is...</td>\n",
       "      <td>El \"amor en el tiempo\" de Petter Mattei es una...</td>\n",
       "      <td>positive</td>\n",
       "      <td>positivo</td>\n",
       "      <td>1406</td>\n",
       "    </tr>\n",
       "    <tr>\n",
       "      <th>5</th>\n",
       "      <td>Probably my all-time favorite movie, a story o...</td>\n",
       "      <td>Probablemente mi película favorita de todos lo...</td>\n",
       "      <td>positive</td>\n",
       "      <td>positivo</td>\n",
       "      <td>724</td>\n",
       "    </tr>\n",
       "    <tr>\n",
       "      <th>6</th>\n",
       "      <td>I sure would like to see a resurrection of a u...</td>\n",
       "      <td>Seguro que me gustaría ver una resurrección de...</td>\n",
       "      <td>positive</td>\n",
       "      <td>positivo</td>\n",
       "      <td>839</td>\n",
       "    </tr>\n",
       "    <tr>\n",
       "      <th>7</th>\n",
       "      <td>This show was an amazing, fresh &amp; innovative i...</td>\n",
       "      <td>Este espectáculo fue una idea increíble, fresc...</td>\n",
       "      <td>negative</td>\n",
       "      <td>negativo</td>\n",
       "      <td>1034</td>\n",
       "    </tr>\n",
       "    <tr>\n",
       "      <th>8</th>\n",
       "      <td>Encouraged by the positive comments about this...</td>\n",
       "      <td>Alentados por los comentarios positivos sobre ...</td>\n",
       "      <td>negative</td>\n",
       "      <td>negativo</td>\n",
       "      <td>708</td>\n",
       "    </tr>\n",
       "    <tr>\n",
       "      <th>9</th>\n",
       "      <td>If you like original gut wrenching laughter yo...</td>\n",
       "      <td>Si te gusta la risa original desgarradora, te ...</td>\n",
       "      <td>positive</td>\n",
       "      <td>positivo</td>\n",
       "      <td>186</td>\n",
       "    </tr>\n",
       "  </tbody>\n",
       "</table>\n",
       "</div>"
      ],
      "text/plain": [
       "                                           review_en   \n",
       "0  One of the other reviewers has mentioned that ...  \\\n",
       "1  A wonderful little production. The filming tec...   \n",
       "2  I thought this was a wonderful way to spend ti...   \n",
       "3  Basically there's a family where a little boy ...   \n",
       "4  Petter Mattei's \"Love in the Time of Money\" is...   \n",
       "5  Probably my all-time favorite movie, a story o...   \n",
       "6  I sure would like to see a resurrection of a u...   \n",
       "7  This show was an amazing, fresh & innovative i...   \n",
       "8  Encouraged by the positive comments about this...   \n",
       "9  If you like original gut wrenching laughter yo...   \n",
       "\n",
       "                                           review_es sentiment sentimiento   \n",
       "0  Uno de los otros críticos ha mencionado que de...  positive    positivo  \\\n",
       "1  Una pequeña pequeña producción.La técnica de f...  positive    positivo   \n",
       "2  Pensé que esta era una manera maravillosa de p...  positive    positivo   \n",
       "3  Básicamente, hay una familia donde un niño peq...  negative    negativo   \n",
       "4  El \"amor en el tiempo\" de Petter Mattei es una...  positive    positivo   \n",
       "5  Probablemente mi película favorita de todos lo...  positive    positivo   \n",
       "6  Seguro que me gustaría ver una resurrección de...  positive    positivo   \n",
       "7  Este espectáculo fue una idea increíble, fresc...  negative    negativo   \n",
       "8  Alentados por los comentarios positivos sobre ...  negative    negativo   \n",
       "9  Si te gusta la risa original desgarradora, te ...  positive    positivo   \n",
       "\n",
       "   reviewlen  \n",
       "0       2004  \n",
       "1       1061  \n",
       "2        989  \n",
       "3        790  \n",
       "4       1406  \n",
       "5        724  \n",
       "6        839  \n",
       "7       1034  \n",
       "8        708  \n",
       "9        186  "
      ]
     },
     "metadata": {},
     "output_type": "display_data"
    }
   ],
   "source": [
    "df.head(10)"
   ]
  },
  {
   "attachments": {},
   "cell_type": "markdown",
   "metadata": {},
   "source": [
    "Para esto usamos un filtro en el dataframe que retornará true o false dependiendo del cumplimiento de la función."
   ]
  },
  {
   "cell_type": "code",
   "execution_count": null,
   "metadata": {},
   "outputs": [],
   "source": [
    "# 100% de los datos\n",
    "# Comentarios positivos\n",
    "good_indices = df[\"sentimiento\"] == \"positivo\"\n",
    "good_reviews = df[good_indices]\n",
    "# comentarios negativos\n",
    "bad_indices = df[\"sentimiento\"] == \"negativo\"\n",
    "bad_reviews = df[bad_indices]"
   ]
  },
  {
   "cell_type": "code",
   "execution_count": null,
   "metadata": {},
   "outputs": [],
   "source": [
    "#10% de los datos\n",
    "# Comentarios positivos\n",
    "good_indices10 = df10[\"sentimiento\"] == \"positivo\"\n",
    "good_reviews10 = df10[good_indices10]\n",
    "# comentarios negativos\n",
    "bad_indices10 = df10[\"sentimiento\"] == \"negativo\"\n",
    "bad_reviews10 = df10[bad_indices10]\n"
   ]
  },
  {
   "attachments": {},
   "cell_type": "markdown",
   "metadata": {},
   "source": [
    "Ahora realizamos un proceso similar de cálculo de frecuencia de palabras, solamente en los reviews que consideramos positivos."
   ]
  },
  {
   "cell_type": "code",
   "execution_count": null,
   "metadata": {},
   "outputs": [
    {
     "name": "stdout",
     "output_type": "stream",
     "text": [
      "película 71879\n",
      "the 28654\n",
      "si 15134\n",
      "historia 14545\n",
      "películas 14142\n",
      "and 13746\n",
      "of 13121\n",
      "solo 12576\n",
      "ser 11945\n",
      "ver 11523\n",
      "to 11169\n",
      "tan 10767\n",
      "realmente 10726\n",
      "gran 10529\n",
      "bien 10247\n",
      "vez 10138\n",
      "mejor 9213\n",
      "hace 8602\n",
      "vida 8491\n",
      "is 8452\n"
     ]
    }
   ],
   "source": [
    "# 100% de los datos\n",
    "common_words = get_top_n_words(good_reviews[\"review_es\"], 20)\n",
    "for word, freq in common_words:\n",
    "    print(word, freq)\n"
   ]
  },
  {
   "cell_type": "code",
   "execution_count": null,
   "metadata": {},
   "outputs": [
    {
     "name": "stdout",
     "output_type": "stream",
     "text": [
      "película 7374\n",
      "the 2248\n",
      "si 1532\n",
      "historia 1434\n",
      "películas 1430\n",
      "solo 1275\n",
      "ser 1189\n",
      "ver 1170\n",
      "realmente 1149\n",
      "tan 1147\n",
      "gran 1092\n",
      "of 1087\n",
      "bien 1068\n",
      "vez 1024\n",
      "and 997\n",
      "mejor 959\n",
      "vida 927\n",
      "hace 900\n",
      "puede 870\n",
      "años 870\n"
     ]
    }
   ],
   "source": [
    "# 10% de los datos\n",
    "common_words10 = get_top_n_words(good_reviews10[\"review_es\"], 20)\n",
    "for word, freq in common_words10:\n",
    "    print(word, freq)"
   ]
  },
  {
   "attachments": {},
   "cell_type": "markdown",
   "metadata": {},
   "source": [
    "Observamos que palabras como película o si se usan con frecuencia en las críticas positivas."
   ]
  },
  {
   "cell_type": "code",
   "execution_count": null,
   "metadata": {},
   "outputs": [
    {
     "data": {
      "image/png": "[encoded data removed]",
      "text/plain": [
       "<Figure size 1300x500 with 2 Axes>"
      ]
     },
     "metadata": {},
     "output_type": "display_data"
    }
   ],
   "source": [
    "# Data frames\n",
    "df_positive = pd.DataFrame(common_words, columns=[\"words\", 'count'])\n",
    "df_positive10 = pd.DataFrame(common_words10, columns=[\"words\", 'count'])\n",
    "\n",
    "# Graficar el primer DataFrame\n",
    "plt.figure(figsize=(13, 5))\n",
    "plt.subplot(1, 2, 1)\n",
    "df_positive.groupby('words').sum()['count'].sort_values(ascending=False).head(20).plot(\n",
    "    kind='bar', title='Top 20 palabras de las críticas positivas en español (100% datos)',\n",
    "    color='#C9D95E', edgecolor='black'\n",
    ")\n",
    "plt.xlabel(\"Palabras\")\n",
    "plt.ylabel(\"Frecuencia\")\n",
    "\n",
    "# Graficar el segundo DataFrame\n",
    "plt.subplot(1, 2, 2)\n",
    "df_positive10.groupby('words').sum()['count'].sort_values(ascending=False).head(20).plot(\n",
    "    kind='bar', title='Top 20 palabras de las críticas positivas en español (10% datos)',\n",
    "    color='#B19CD9', edgecolor='black'\n",
    ")\n",
    "plt.xlabel(\"Palabras\")\n",
    "plt.ylabel(\"Frecuencia\")\n",
    "\n",
    "# Ajustar la ubicación de los subplots\n",
    "plt.subplots_adjust(wspace=0.5)\n",
    "\n",
    "# Mostrar la figura\n",
    "plt.show()"
   ]
  },
  {
   "attachments": {},
   "cell_type": "markdown",
   "metadata": {},
   "source": [
    "**Al comparar los diagramas de barras entre el conjunto del 100% de datos y del 10% de los datos no encontramos diferencias en la distribución de las palabras. La palabra que más se repite es \"película\".**"
   ]
  },
  {
   "attachments": {},
   "cell_type": "markdown",
   "metadata": {},
   "source": [
    "Realizamos un proceso similar para los reviews negativos. Es interesante observar que la palabra good sigue siendo representativa."
   ]
  },
  {
   "cell_type": "code",
   "execution_count": null,
   "metadata": {},
   "outputs": [
    {
     "data": {
      "text/html": [
       "<div>\n",
       "<style scoped>\n",
       "    .dataframe tbody tr th:only-of-type {\n",
       "        vertical-align: middle;\n",
       "    }\n",
       "\n",
       "    .dataframe tbody tr th {\n",
       "        vertical-align: top;\n",
       "    }\n",
       "\n",
       "    .dataframe thead th {\n",
       "        text-align: right;\n",
       "    }\n",
       "</style>\n",
       "<table border=\"1\" class=\"dataframe\">\n",
       "  <thead>\n",
       "    <tr style=\"text-align: right;\">\n",
       "      <th></th>\n",
       "      <th>review_en</th>\n",
       "      <th>review_es</th>\n",
       "      <th>sentiment</th>\n",
       "      <th>sentimiento</th>\n",
       "      <th>reviewlen</th>\n",
       "    </tr>\n",
       "  </thead>\n",
       "  <tbody>\n",
       "    <tr>\n",
       "      <th>3</th>\n",
       "      <td>Basically there's a family where a little boy ...</td>\n",
       "      <td>Básicamente, hay una familia donde un niño peq...</td>\n",
       "      <td>negative</td>\n",
       "      <td>negativo</td>\n",
       "      <td>790</td>\n",
       "    </tr>\n",
       "    <tr>\n",
       "      <th>7</th>\n",
       "      <td>This show was an amazing, fresh &amp; innovative i...</td>\n",
       "      <td>Este espectáculo fue una idea increíble, fresc...</td>\n",
       "      <td>negative</td>\n",
       "      <td>negativo</td>\n",
       "      <td>1034</td>\n",
       "    </tr>\n",
       "    <tr>\n",
       "      <th>8</th>\n",
       "      <td>Encouraged by the positive comments about this...</td>\n",
       "      <td>Alentados por los comentarios positivos sobre ...</td>\n",
       "      <td>negative</td>\n",
       "      <td>negativo</td>\n",
       "      <td>708</td>\n",
       "    </tr>\n",
       "    <tr>\n",
       "      <th>10</th>\n",
       "      <td>Phil the Alien is one of those quirky films wh...</td>\n",
       "      <td>Phil El alienígena es una de esas películas pe...</td>\n",
       "      <td>negative</td>\n",
       "      <td>negativo</td>\n",
       "      <td>575</td>\n",
       "    </tr>\n",
       "    <tr>\n",
       "      <th>11</th>\n",
       "      <td>I saw this movie when I was about 12 when it c...</td>\n",
       "      <td>Vi esta película cuando tenía alrededor de 12 ...</td>\n",
       "      <td>negative</td>\n",
       "      <td>negativo</td>\n",
       "      <td>977</td>\n",
       "    </tr>\n",
       "  </tbody>\n",
       "</table>\n",
       "</div>"
      ],
      "text/plain": [
       "                                            review_en   \n",
       "3   Basically there's a family where a little boy ...  \\\n",
       "7   This show was an amazing, fresh & innovative i...   \n",
       "8   Encouraged by the positive comments about this...   \n",
       "10  Phil the Alien is one of those quirky films wh...   \n",
       "11  I saw this movie when I was about 12 when it c...   \n",
       "\n",
       "                                            review_es sentiment sentimiento   \n",
       "3   Básicamente, hay una familia donde un niño peq...  negative    negativo  \\\n",
       "7   Este espectáculo fue una idea increíble, fresc...  negative    negativo   \n",
       "8   Alentados por los comentarios positivos sobre ...  negative    negativo   \n",
       "10  Phil El alienígena es una de esas películas pe...  negative    negativo   \n",
       "11  Vi esta película cuando tenía alrededor de 12 ...  negative    negativo   \n",
       "\n",
       "    reviewlen  \n",
       "3         790  \n",
       "7        1034  \n",
       "8         708  \n",
       "10        575  \n",
       "11        977  "
      ]
     },
     "metadata": {},
     "output_type": "display_data"
    }
   ],
   "source": [
    "bad_reviews.head()"
   ]
  },
  {
   "cell_type": "code",
   "execution_count": null,
   "metadata": {},
   "outputs": [
    {
     "name": "stdout",
     "output_type": "stream",
     "text": [
      "película 79938\n",
      "the 23751\n",
      "si 20059\n",
      "solo 16201\n",
      "películas 14548\n",
      "ser 14176\n",
      "tan 14162\n",
      "ver 12675\n",
      "realmente 12461\n",
      "historia 11542\n",
      "of 9990\n",
      "and 9972\n",
      "vez 9647\n",
      "to 9586\n",
      "tiempo 8438\n",
      "mejor 8338\n",
      "incluso 8068\n",
      "puede 7731\n",
      "bien 7619\n",
      "hecho 7481\n"
     ]
    }
   ],
   "source": [
    "# 100% de los datos\n",
    "# Comentarios negativos\n",
    "common_words = get_top_n_words(bad_reviews['review_es'], 20)\n",
    "for word, freq in common_words:\n",
    "    print(word, freq)"
   ]
  },
  {
   "cell_type": "code",
   "execution_count": null,
   "metadata": {},
   "outputs": [
    {
     "name": "stdout",
     "output_type": "stream",
     "text": [
      "película 7873\n",
      "the 2446\n",
      "si 2010\n",
      "solo 1625\n",
      "tan 1487\n",
      "ser 1462\n",
      "películas 1449\n",
      "ver 1252\n",
      "realmente 1188\n",
      "historia 1153\n",
      "and 1072\n",
      "of 1052\n",
      "to 998\n",
      "vez 923\n",
      "mejor 847\n",
      "tiempo 794\n",
      "simplemente 766\n",
      "bien 763\n",
      "hecho 754\n",
      "puede 750\n"
     ]
    }
   ],
   "source": [
    "# 10% de los datos - Comentarios negativos\n",
    "common_words10 = get_top_n_words(bad_reviews10['review_es'], 20)\n",
    "for word, freq in common_words10:\n",
    "    print(word, freq)\n",
    "    "
   ]
  },
  {
   "attachments": {},
   "cell_type": "markdown",
   "metadata": {},
   "source": [
    "Realizando el diagrama de barras correspondiente para visualizar de mejor manera la información:"
   ]
  },
  {
   "cell_type": "code",
   "execution_count": null,
   "metadata": {},
   "outputs": [
    {
     "data": {
      "image/png": "[encoded data removed]",
      "text/plain": [
       "<Figure size 1400x500 with 2 Axes>"
      ]
     },
     "metadata": {},
     "output_type": "display_data"
    }
   ],
   "source": [
    "#DataFrames\n",
    "df_negative = pd.DataFrame(common_words, columns=['words', 'count'])\n",
    "df_negative10 = pd.DataFrame(common_words10, columns=['words', 'count'])\n",
    "\n",
    "# Graficar el primer DataFrame\n",
    "plt.figure(figsize=(14, 5))\n",
    "plt.subplot(1, 2, 1)\n",
    "df_negative.groupby('words').sum()['count'].sort_values(ascending=False).head(20).plot(\n",
    "    kind='bar', title='Top 20 palabras de las críticas negativas en español (100% datos)',\n",
    "    color='#B19CD9', edgecolor='black'\n",
    ")\n",
    "plt.xlabel(\"Palabras\")\n",
    "plt.ylabel(\"Frecuencia\")\n",
    "\n",
    "# Graficar el segundo DataFrame\n",
    "plt.subplot(1, 2, 2)\n",
    "df_negative10.groupby('words').sum()['count'].sort_values(ascending=False).head(20).plot(\n",
    "    kind='bar', title='Top 20 palabras de las críticas negativas en español (10% datos)',\n",
    "    color='#C9D95E', edgecolor='black'\n",
    ")\n",
    "plt.xlabel(\"Palabras\")\n",
    "plt.ylabel(\"Frecuencia\")\n",
    "\n",
    "# Ajustar la ubicación de los subplots\n",
    "plt.subplots_adjust(wspace=0.3)\n",
    "\n",
    "# Mostrar la figura\n",
    "plt.show()\n"
   ]
  },
  {
   "attachments": {},
   "cell_type": "markdown",
   "metadata": {},
   "source": [
    "Conclusión: **Las palabras que más se repiten en las críticas negativas son muy similares a las que más aparecen en las críticas positivas. La distribución que siguen los conjuntos de datos del 100% y 10% es igual. La palabra que más frecuencia presenta es _película_ y sucede así tanto para el conjunto completo como para la muestra del 10%.**"
   ]
  },
  {
   "attachments": {},
   "cell_type": "markdown",
   "metadata": {},
   "source": [
    "Sin embargo, nuestro interés es detectar palabras que están en los reviews negativos y que normalmente no se encuentran en los reviews positivos.\n",
    "\n",
    "Para esto construimos una función que calcule las 20 palabras con frecuencia mas alta, que solamente estén en reviews negativos ."
   ]
  },
  {
   "cell_type": "code",
   "execution_count": null,
   "metadata": {},
   "outputs": [],
   "source": [
    "from collections import Counter\n",
    "# https://docs.python.org/3/library/collections.html\n",
    "\n",
    "def get_indicative_words(text1, text2, n=20):\n",
    "    c1 = Counter(text1.lower().split(\" \"))\n",
    "    c2 = Counter(text2.lower().split(\" \"))\n",
    "    ind_words_1 = (c1 - c2).most_common(n) #most_common, método de la clase Counter\n",
    "    ind_words_2 = (c2 - c1).most_common(n)    \n",
    "    x, y = zip(*ind_words_2)\n",
    "    #https://www.programiz.com/python-programming/methods/built-in/zip\n",
    "    df_indicative = pd.DataFrame({'word': x, 'count': y})\n",
    "    df_indicative.plot.barh(\n",
    "        x='word', y='count', figsize=(10,10)\n",
    "    )\n",
    "    return(c1)\n"
   ]
  },
  {
   "attachments": {},
   "cell_type": "markdown",
   "metadata": {},
   "source": [
    "Para el 100% de los datos encontramos:"
   ]
  },
  {
   "cell_type": "code",
   "execution_count": null,
   "metadata": {},
   "outputs": [
    {
     "data": {
      "image/png": "[encoded data removed]",
      "text/plain": [
       "<Figure size 1000x1000 with 1 Axes>"
      ]
     },
     "metadata": {},
     "output_type": "display_data"
    }
   ],
   "source": [
    "c1 = get_indicative_words(' '.join(good_reviews['review_es']), ' '.join(bad_reviews['review_es']))"
   ]
  },
  {
   "attachments": {},
   "cell_type": "markdown",
   "metadata": {},
   "source": [
    "Y para el 10% de los datos:"
   ]
  },
  {
   "cell_type": "code",
   "execution_count": null,
   "metadata": {},
   "outputs": [
    {
     "data": {
      "image/png": "[encoded data removed]",
      "text/plain": [
       "<Figure size 1000x1000 with 1 Axes>"
      ]
     },
     "metadata": {},
     "output_type": "display_data"
    }
   ],
   "source": [
    "c1_10 = get_indicative_words(' '.join(good_reviews10['review_es']), ' '.join(bad_reviews10['review_es']))"
   ]
  },
  {
   "attachments": {},
   "cell_type": "markdown",
   "metadata": {},
   "source": [
    "Conclusión: **Encontramos que las palabras que mas se repiten en reviews negativas son \"no\", \"si\", \"que\" y \"o\". Además, la palabra \"no\" tiene una frecuencia significativamente superior con respecto al resto de palabras. Sin embargo, es difícil llegar a una conclusión precisa ya que estas palabras son muy comunes en el lenguaje y no proporcionan mucha información por sí solas.**"
   ]
  },
  {
   "attachments": {},
   "cell_type": "markdown",
   "metadata": {},
   "source": [
    "Solo como referencia la palabra mas usada en los reviews positivos."
   ]
  },
  {
   "cell_type": "code",
   "execution_count": null,
   "metadata": {},
   "outputs": [
    {
     "name": "stdout",
     "output_type": "stream",
     "text": [
      "uno 7060\n"
     ]
    }
   ],
   "source": [
    "llave = list(c1.keys())[0]\n",
    "valor = list(c1.values())[0]\n",
    "print (llave, valor)"
   ]
  },
  {
   "attachments": {},
   "cell_type": "markdown",
   "metadata": {},
   "source": [
    "**Como conclusión general -> el análisis de frecuencia de palabras es un primer paso útil, pero se necesitará un análisis más profundo y un contexto más amplio para sacar conclusiones significativas sobre las críticas de películas.**"
   ]
  },
  {
   "attachments": {},
   "cell_type": "markdown",
   "metadata": {},
   "source": [
    "# POS (Part of speech)\n",
    "\n",
    "Uno de los procesamientos mas relevantes para encontrar significado y procesar adecuadamente un texto, se conoce como Part of Speech, este procedimiento hace referencia a encontrar no solamente los tokens de la oración, si no a identificar que tipo de rol juega esa palabra en el idioma, es decir, si es un nombre, verbo, adjetivos, etc.\n",
    "\n",
    "NLTK cuenta con un método denominado pos_tag para etiquetar las palabras que han resultado del proceso de tokenización \n",
    "\n",
    "*Nota. En este ejemplo no se filtran stop words para mostrar el comportamiento sobre la frase completa*"
   ]
  },
  {
   "cell_type": "code",
   "execution_count": null,
   "metadata": {},
   "outputs": [
    {
     "name": "stderr",
     "output_type": "stream",
     "text": [
      "[nltk_data] Downloading package averaged_perceptron_tagger to\n",
      "[nltk_data]     /Users/nicolaycc/nltk_data...\n",
      "[nltk_data]   Package averaged_perceptron_tagger is already up-to-\n",
      "[nltk_data]       date!\n",
      "[nltk_data] Downloading package maxent_ne_chunker to\n",
      "[nltk_data]     /Users/nicolaycc/nltk_data...\n",
      "[nltk_data]   Package maxent_ne_chunker is already up-to-date!\n",
      "[nltk_data] Downloading package words to /Users/nicolaycc/nltk_data...\n",
      "[nltk_data]   Package words is already up-to-date!\n",
      "[nltk_data] Downloading package tagsets to\n",
      "[nltk_data]     /Users/nicolaycc/nltk_data...\n",
      "[nltk_data]   Package tagsets is already up-to-date!\n",
      "[nltk_data] Downloading package vader_lexicon to\n",
      "[nltk_data]     /Users/nicolaycc/nltk_data...\n",
      "[nltk_data]   Package vader_lexicon is already up-to-date!\n"
     ]
    },
    {
     "data": {
      "text/plain": [
       "True"
      ]
     },
     "metadata": {},
     "output_type": "display_data"
    }
   ],
   "source": [
    "import nltk\n",
    "nltk.download('averaged_perceptron_tagger')\n",
    "nltk.download('maxent_ne_chunker')\n",
    "nltk.download('words')\n",
    "nltk.download('tagsets')\n",
    "nltk.download('vader_lexicon')\n",
    "\n",
    "#https://www.nltk.org/book/ch05.html\n"
   ]
  },
  {
   "cell_type": "code",
   "execution_count": null,
   "metadata": {},
   "outputs": [
    {
     "name": "stdout",
     "output_type": "stream",
     "text": [
      "CD: numeral, cardinal\n",
      "    mid-1890 nine-thirty forty-two one-tenth ten million 0.5 one forty-\n",
      "    seven 1987 twenty '79 zero two 78-degrees eighty-four IX '60s .025\n",
      "    fifteen 271,124 dozen quintillion DM2,000 ...\n",
      "NN: noun, common, singular or mass\n",
      "    common-carrier cabbage knuckle-duster Casino afghan shed thermostat\n",
      "    investment slide humour falloff slick wind hyena override subhumanity\n",
      "    machinist ...\n",
      "NNPS: noun, proper, plural\n",
      "    Americans Americas Amharas Amityvilles Amusements Anarcho-Syndicalists\n",
      "    Andalusians Andes Andruses Angels Animals Anthony Antilles Antiques\n",
      "    Apache Apaches Apocrypha ...\n"
     ]
    }
   ],
   "source": [
    "# Ayuda adicional de POS tag puede obtenerse con la ayuda propia de la librería NLTK\n",
    "nltk.help.upenn_tagset('CD$')\n",
    "nltk.help.upenn_tagset('NN$')\n",
    "nltk.help.upenn_tagset('NNPS$')"
   ]
  },
  {
   "attachments": {},
   "cell_type": "markdown",
   "metadata": {},
   "source": [
    "Se realiza el procesamiento POS para toda la fila de sentimiento:"
   ]
  },
  {
   "cell_type": "code",
   "execution_count": null,
   "metadata": {},
   "outputs": [
    {
     "name": "stdout",
     "output_type": "stream",
     "text": [
      "['Uno', 'de', 'los', 'otros', 'críticos', 'ha', 'mencionado', 'que', 'después', 'de', 'ver', 'solo', '1', 'Oz', 'Episodio', ',', 'estará', 'enganchado', '.', 'Tienen', 'razón', ',', 'ya', 'que', 'esto', 'es', 'exactamente', 'lo', 'que', 'sucedió', 'conmigo', '.', 'La', 'primera', 'cosa', 'que', 'me', 'golpeó', 'sobre', 'Oz', 'fue', 'su', 'brutalidad', 'y', 'sus', 'escenas', 'de', 'violencia', 'inconfiadas', ',', 'que', 'se', 'encuentran', 'a', 'la', 'derecha', 'de', 'la', 'palabra', '.', 'Confía', 'en', 'mí', ',', 'este', 'no', 'es', 'un', 'espectáculo', 'para', 'los', 'débiles', 'de', 'corazón', 'o', 'tímido', '.', 'Este', 'espectáculo', 'no', 'extrae', 'punzones', 'con', 'respecto', 'a', 'las', 'drogas', ',', 'el', 'sexo', 'o', 'la', 'violencia', '.', 'Es', 'Hardcore', ',', 'en', 'el', 'uso', 'clásico', 'de', 'la', 'palabra', '.', 'Se', 'llama', 'OZ', ',', 'ya', 'que', 'es', 'el', 'apodo', 'dado', 'al', 'Penitenciario', 'del', 'Estado', 'de', 'Seguridad', 'Máximo', 'de', 'Oswald', '.', 'Se', 'centra', 'principalmente', 'en', 'la', 'ciudad', 'de', 'Emeralda', ',', 'una', 'sección', 'experimental', 'de', 'la', 'prisión', 'donde', 'todas', 'las', 'células', 'tienen', 'frentes', 'de', 'vidrio', 'y', 'se', 'enfrentan', 'hacia', 'adentro', ',', 'por', 'lo', 'que', 'la', 'privacidad', 'no', 'es', 'alta', 'en', 'la', 'agenda', '.', 'Em', 'City', 'es', 'el', 'hogar', 'de', 'muchos', '...', 'Fariarios', ',', 'musulmanes', ',', 'gangstas', ',', 'latinos', ',', 'cristianos', ',', 'italianos', ',', 'irlandeses', 'y', 'más', '...', 'así', 'que', 'las', 'esposas', ',', 'las', 'miradas', 'de', 'muerte', ',', 'las', 'relaciones', 'peligrosas', 'y', 'los', 'acuerdos', 'sombreados', 'nunca', 'están', 'lejos', '.', 'Yo', 'diría', 'el', 'principal', 'atractivo', 'de', 'El', 'espectáculo', 'se', 'debe', 'al', 'hecho', 'de', 'que', 'va', 'donde', 'otros', 'espectáculos', 'no', 'se', 'atreverían', '.', 'Olvídate', 'de', 'las', 'imágenes', 'bonitas', 'pintadas', 'para', 'las', 'audiencias', 'convencionales', ',', 'olvidan', 'el', 'encanto', ',', 'olviden', 'el', 'romance', '...', 'Oz', 'no', 'se', 'mete', '.', 'El', 'primer', 'episodio', 'que', 'he', 'visto', 'me', 'sorprendió', 'tan', 'desagradable', 'que', 'fue', 'surrealista', ',', 'no', 'podía', 'decir', 'que', 'estaba', 'listo', 'para', 'ello', ',', 'pero', 'cuando', 'observé', 'más', ',', 'desarrollé', 'un', 'gusto', 'por', 'Oz', ',', 'y', 'me', 'acostumbré', 'a', 'los', 'altos', 'niveles', 'de', 'violencia', 'gráfica', '.', 'No', 'solo', 'la', 'violencia', ',', 'sino', 'la', 'injusticia', '(', 'Guardias', 'torcidas', 'que', 'se', 'vendrán', 'por', 'un', 'níquel', ',', 'los', 'reclusos', 'que', 'se', 'matarán', 'en', 'orden', 'y', 'se', 'alejarán', 'con', 'él', ',', 'de', 'manera', 'educada', ',', 'los', 'reclusos', 'de', 'clase', 'media', 'se', 'convirtieron', 'en', 'perras', 'de', 'la', 'prisión', 'debido', 'a', 'su', 'falta', 'de', 'habilidades', 'callejeras', 'O', 'experiencia', 'en', 'la', 'prisión', ')', 'viendo', 'oz', ',', 'puede', 'sentirse', 'cómodo', 'con', 'lo', 'que', 'es', 'incómodo', 'visualización', '...', 'eso', 'es', 'si', 'puedes', 'ponerte', 'en', 'contacto', 'con', 'tu', 'lado', 'más', 'oscuro', '.']\n",
      "['Uno', 'de', 'los', 'críticos', 'ha', 'mencionado', 'que', 'después', 'ver', 'solo', '1', 'Oz', 'Episodio', 'enganchado', 'Tienen', 'razón', 'es', 'exactamente', 'lo', 'que', 'sucedió', 'conmigo', 'La', 'primera', 'cosa', 'Oz', 'fue', 'su', 'brutalidad', 'y', 'sus', 'escenas', 'de', 'violencia', 'inconfiadas', 'que', 'se', 'la', 'derecha', 'de', 'la', 'palabra', 'Confía', 'mí', 'este', 'es', 'para', 'los', 'corazón', 'tímido', 'Este', 'punzones', 'las', 'drogas', 'el', 'sexo', 'o', 'la', 'violencia', 'Es', 'Hardcore', 'en', 'el', 'clásico', 'la', 'palabra', 'Se', 'llama', 'OZ', 'ya', 'que', 'es', 'el', 'apodo', 'dado', 'al', 'Penitenciario', 'del', 'Estado', 'de', 'Seguridad', 'Máximo', 'Oswald', 'Se', 'principalmente', 'en', 'la', 'ciudad', 'de', 'Emeralda', 'sección', 'experimental', 'la', 'prisión', 'donde', 'todas', 'las', 'células', 'frentes', 'vidrio', 'y', 'se', 'hacia', 'adentro', 'por', 'lo', 'que', 'la', 'es', 'la', 'agenda', 'Em', 'City', 'hogar', 'muchos', 'Fariarios', 'musulmanes', 'gangstas', 'latinos', 'cristianos', 'italianos', 'irlandeses', 'más', 'las', 'miradas', 'de', 'muerte', 'las', 'relaciones', 'los', 'sombreados', 'nunca', 'están', 'lejos', 'Yo', 'diría', 'el', 'atractivo', 'El', 'espectáculo', 'se', 'debe', 'al', 'hecho', 'de', 'que', 'va', 'donde', 'otros', 'se', 'Olvídate', 'las', 'imágenes', 'bonitas', 'las', 'convencionales', 'el', 'encanto', 'el', 'romance', 'Oz', 'mete', 'El', 'primer', 'episodio', 'que', 'que', 'fue', 'surrealista', 'podía', 'decir', 'que', 'listo', 'para', 'ello', 'pero', 'cuando', 'observé', 'más', 'desarrollé', 'gusto', 'por', 'Oz', 'los', 'niveles', 'violencia', 'gráfica', 'solo', 'la', 'violencia', 'sino', 'la', 'injusticia', 'Guardias', 'vendrán', 'por', 'níquel', 'reclusos', 'que', 'se', 'matarán', 'en', 'y', 'se', 'con', 'él', 'de', 'manera', 'educada', 'reclusos', 'clase', 'media', 'convirtieron', 'en', 'perras', 'de', 'la', 'prisión', 'debido', 'falta', 'de', 'habilidades', 'callejeras', 'O', 'en', 'la', 'prisión', 'viendo', 'oz', 'cómodo', 'con', 'lo', 'que', 'es', 'incómodo', 'visualización', 'si', 'puedes', 'en', 'contacto', 'con', 'tu', 'lado', 'más', 'oscuro']\n"
     ]
    }
   ],
   "source": [
    "#definir oración\n",
    "sentence = df['review_es'][0]\n",
    "\n",
    "#tokenizar\n",
    "words = nltk.word_tokenize(sentence)\n",
    "print(words)\n",
    "\n",
    "#mostrar las etiquetas ['CD','FW','NN','NNS','NNP','NNPS'] de las palabras de la oración\n",
    "words_1 = [k for k,v in nltk.pos_tag(words) if v in ['CD','FW','NN','NNS','NNP','NNPS']]\n",
    "print(words_1)\n"
   ]
  },
  {
   "attachments": {},
   "cell_type": "markdown",
   "metadata": {},
   "source": [
    "Se realiza el proceso de etiquetar el texto (PART OF SPEECH TAGGING):"
   ]
  },
  {
   "cell_type": "code",
   "execution_count": null,
   "metadata": {},
   "outputs": [
    {
     "data": {
      "text/plain": [
       "[('Uno', 'NNP'),\n",
       " ('de', 'FW'),\n",
       " ('los', 'FW'),\n",
       " ('otros', 'JJ'),\n",
       " ('críticos', 'NN'),\n",
       " ('ha', 'NN'),\n",
       " ('mencionado', 'NN'),\n",
       " ('que', 'NN'),\n",
       " ('después', 'NN'),\n",
       " ('de', 'IN')]"
      ]
     },
     "metadata": {},
     "output_type": "display_data"
    }
   ],
   "source": [
    "tag = nltk.pos_tag(words) #PART OF SPEECH TAGGING\n",
    "tag[:10] #ver las primeras 10 palabras con su etiqueta"
   ]
  },
  {
   "attachments": {},
   "cell_type": "markdown",
   "metadata": {},
   "source": [
    "Para agrupar a las palabras según su etiqueta se ejecuta lo siguiente:"
   ]
  },
  {
   "cell_type": "code",
   "execution_count": null,
   "metadata": {},
   "outputs": [
    {
     "name": "stdout",
     "output_type": "stream",
     "text": [
      "(S\n",
      "  (GPE Uno/NNP)\n",
      "  de/FW\n",
      "  los/FW\n",
      "  otros/JJ\n",
      "  críticos/NN\n",
      "  ha/NN\n",
      "  mencionado/NN\n",
      "  que/NN\n",
      "  después/NN\n",
      "  de/IN\n",
      "  ver/FW\n",
      "  solo/FW\n",
      "  1/CD\n",
      "  Oz/NNP\n",
      "  Episodio/NNP\n",
      "  ,/,\n",
      "  estará/JJ\n",
      "  enganchado/NN\n",
      "  ./.\n",
      "  (PERSON Tienen/NNP)\n",
      "  razón/NN\n",
      "  ,/,\n",
      "  ya/PRP\n",
      "  que/VBP\n",
      "  esto/JJ\n",
      "  es/NN\n",
      "  exactamente/NN\n",
      "  lo/NN\n",
      "  que/NN\n",
      "  sucedió/NN\n",
      "  conmigo/NN\n",
      "  ./.\n",
      "  La/NNP\n",
      "  primera/NN\n",
      "  cosa/NN\n",
      "  que/IN\n",
      "  me/PRP\n",
      "  golpeó/VBP\n",
      "  sobre/JJ\n",
      "  Oz/NNP\n",
      "  fue/NN\n",
      "  su/NN\n",
      "  brutalidad/NN\n",
      "  y/NN\n",
      "  sus/NN\n",
      "  escenas/FW\n",
      "  de/FW\n",
      "  violencia/FW\n",
      "  inconfiadas/NNS\n",
      "  ,/,\n",
      "  que/NN\n",
      "  se/NN\n",
      "  encuentran/VBD\n",
      "  a/DT\n",
      "  la/NN\n",
      "  derecha/FW\n",
      "  de/FW\n",
      "  la/FW\n",
      "  palabra/FW\n",
      "  ./.\n",
      "  Confía/NNP\n",
      "  en/IN\n",
      "  mí/NN\n",
      "  ,/,\n",
      "  este/NN\n",
      "  no/DT\n",
      "  es/NN\n",
      "  un/RB\n",
      "  espectáculo/JJ\n",
      "  para/NN\n",
      "  los/NN\n",
      "  débiles/VBZ\n",
      "  de/IN\n",
      "  corazón/FW\n",
      "  o/JJ\n",
      "  tímido/NN\n",
      "  ./.\n",
      "  (PERSON Este/NNP)\n",
      "  espectáculo/VBZ\n",
      "  no/DT\n",
      "  extrae/JJ\n",
      "  punzones/NNS\n",
      "  con/VBP\n",
      "  respecto/VB\n",
      "  a/DT\n",
      "  las/NN\n",
      "  drogas/NN\n",
      "  ,/,\n",
      "  el/FW\n",
      "  sexo/FW\n",
      "  o/FW\n",
      "  la/FW\n",
      "  violencia/FW\n",
      "  ./.\n",
      "  Es/NNP\n",
      "  Hardcore/NNP\n",
      "  ,/,\n",
      "  en/FW\n",
      "  el/FW\n",
      "  uso/JJ\n",
      "  clásico/NN\n",
      "  de/IN\n",
      "  la/FW\n",
      "  palabra/FW\n",
      "  ./.\n",
      "  Se/NNP\n",
      "  llama/NN\n",
      "  OZ/NNP\n",
      "  ,/,\n",
      "  ya/NN\n",
      "  que/NN\n",
      "  es/NN\n",
      "  el/NN\n",
      "  apodo/NN\n",
      "  dado/NN\n",
      "  al/NN\n",
      "  Penitenciario/NNP\n",
      "  del/FW\n",
      "  (PERSON Estado/NNP)\n",
      "  de/FW\n",
      "  (PERSON Seguridad/NNP Máximo/NNP)\n",
      "  de/IN\n",
      "  (GPE Oswald/NNP)\n",
      "  ./.\n",
      "  Se/NNP\n",
      "  centra/JJ\n",
      "  principalmente/NN\n",
      "  en/FW\n",
      "  la/FW\n",
      "  ciudad/FW\n",
      "  de/FW\n",
      "  (PERSON Emeralda/NNP)\n",
      "  ,/,\n",
      "  una/JJ\n",
      "  sección/NN\n",
      "  experimental/NN\n",
      "  de/IN\n",
      "  la/FW\n",
      "  prisión/FW\n",
      "  donde/FW\n",
      "  todas/FW\n",
      "  las/FW\n",
      "  células/NNS\n",
      "  tienen/VBP\n",
      "  frentes/NNS\n",
      "  de/IN\n",
      "  vidrio/NN\n",
      "  y/NN\n",
      "  se/NN\n",
      "  enfrentan/JJ\n",
      "  hacia/NN\n",
      "  adentro/NN\n",
      "  ,/,\n",
      "  por/NN\n",
      "  lo/NN\n",
      "  que/NN\n",
      "  la/FW\n",
      "  privacidad/VBZ\n",
      "  no/DT\n",
      "  es/NN\n",
      "  alta/RB\n",
      "  en/VBZ\n",
      "  la/NN\n",
      "  agenda/NN\n",
      "  ./.\n",
      "  (PERSON Em/NNP City/NNP)\n",
      "  es/VBP\n",
      "  el/JJ\n",
      "  hogar/NN\n",
      "  de/IN\n",
      "  muchos/FW\n",
      "  .../:\n",
      "  (PERSON Fariarios/NNP)\n",
      "  ,/,\n",
      "  musulmanes/NNS\n",
      "  ,/,\n",
      "  gangstas/NNS\n",
      "  ,/,\n",
      "  latinos/NNS\n",
      "  ,/,\n",
      "  cristianos/NNS\n",
      "  ,/,\n",
      "  italianos/NNS\n",
      "  ,/,\n",
      "  irlandeses/NNS\n",
      "  y/VBP\n",
      "  más/NN\n",
      "  .../:\n",
      "  así/RB\n",
      "  que/JJ\n",
      "  las/NNS\n",
      "  esposas/RB\n",
      "  ,/,\n",
      "  las/JJ\n",
      "  miradas/FW\n",
      "  de/FW\n",
      "  muerte/FW\n",
      "  ,/,\n",
      "  las/FW\n",
      "  relaciones/NNS\n",
      "  peligrosas/VBP\n",
      "  y/JJ\n",
      "  los/NN\n",
      "  acuerdos/JJ\n",
      "  sombreados/NN\n",
      "  nunca/NN\n",
      "  están/NN\n",
      "  lejos/NN\n",
      "  ./.\n",
      "  Yo/NNP\n",
      "  diría/NN\n",
      "  el/NN\n",
      "  principal/JJ\n",
      "  atractivo/NN\n",
      "  de/IN\n",
      "  El/NNP\n",
      "  espectáculo/FW\n",
      "  se/FW\n",
      "  debe/FW\n",
      "  al/FW\n",
      "  hecho/FW\n",
      "  de/FW\n",
      "  que/FW\n",
      "  va/FW\n",
      "  donde/FW\n",
      "  otros/FW\n",
      "  espectáculos/VBP\n",
      "  no/DT\n",
      "  se/NN\n",
      "  atreverían/RB\n",
      "  ./.\n",
      "  (ORGANIZATION Olvídate/NNP)\n",
      "  de/IN\n",
      "  las/FW\n",
      "  imágenes/NNS\n",
      "  bonitas/NNS\n",
      "  pintadas/VBP\n",
      "  para/JJ\n",
      "  las/NNS\n",
      "  audiencias/JJ\n",
      "  convencionales/NNS\n",
      "  ,/,\n",
      "  olvidan/JJ\n",
      "  el/NN\n",
      "  encanto/NN\n",
      "  ,/,\n",
      "  olviden/JJ\n",
      "  el/NN\n",
      "  romance/NN\n",
      "  .../:\n",
      "  Oz/NNP\n",
      "  no/DT\n",
      "  se/JJ\n",
      "  mete/NN\n",
      "  ./.\n",
      "  El/NNP\n",
      "  primer/NN\n",
      "  episodio/NN\n",
      "  que/NN\n",
      "  he/PRP\n",
      "  visto/VBZ\n",
      "  me/PRP\n",
      "  sorprendió/JJ\n",
      "  tan/JJ\n",
      "  desagradable/JJ\n",
      "  que/NN\n",
      "  fue/NN\n",
      "  surrealista/NN\n",
      "  ,/,\n",
      "  no/DT\n",
      "  podía/NN\n",
      "  decir/NN\n",
      "  que/NN\n",
      "  estaba/VBP\n",
      "  listo/NN\n",
      "  para/NN\n",
      "  ello/NN\n",
      "  ,/,\n",
      "  pero/NN\n",
      "  cuando/NN\n",
      "  observé/NN\n",
      "  más/NN\n",
      "  ,/,\n",
      "  desarrollé/NN\n",
      "  un/JJ\n",
      "  gusto/NN\n",
      "  por/NN\n",
      "  Oz/NNP\n",
      "  ,/,\n",
      "  y/VB\n",
      "  me/PRP\n",
      "  acostumbré/VB\n",
      "  a/DT\n",
      "  los/NN\n",
      "  altos/JJ\n",
      "  niveles/NNS\n",
      "  de/IN\n",
      "  violencia/FW\n",
      "  gráfica/NN\n",
      "  ./.\n",
      "  No/DT\n",
      "  solo/NN\n",
      "  la/NN\n",
      "  violencia/NN\n",
      "  ,/,\n",
      "  sino/NN\n",
      "  la/NN\n",
      "  injusticia/NN\n",
      "  (/(\n",
      "  (ORGANIZATION Guardias/NNP)\n",
      "  torcidas/VBZ\n",
      "  que/JJ\n",
      "  se/JJ\n",
      "  vendrán/NN\n",
      "  por/NN\n",
      "  un/JJ\n",
      "  níquel/NN\n",
      "  ,/,\n",
      "  los/JJ\n",
      "  reclusos/NN\n",
      "  que/NN\n",
      "  se/NN\n",
      "  matarán/NN\n",
      "  en/FW\n",
      "  orden/JJ\n",
      "  y/NN\n",
      "  se/NN\n",
      "  alejarán/JJ\n",
      "  con/NN\n",
      "  él/NNP\n",
      "  ,/,\n",
      "  de/FW\n",
      "  manera/FW\n",
      "  educada/NN\n",
      "  ,/,\n",
      "  los/JJ\n",
      "  reclusos/NN\n",
      "  de/IN\n",
      "  clase/NN\n",
      "  media/NNS\n",
      "  se/VBP\n",
      "  convirtieron/NN\n",
      "  en/FW\n",
      "  perras/FW\n",
      "  de/FW\n",
      "  la/FW\n",
      "  prisión/FW\n",
      "  debido/FW\n",
      "  a/DT\n",
      "  su/JJ\n",
      "  falta/NN\n",
      "  de/FW\n",
      "  habilidades/FW\n",
      "  callejeras/NNS\n",
      "  O/NNP\n",
      "  experiencia/VBP\n",
      "  en/FW\n",
      "  la/FW\n",
      "  prisión/NN\n",
      "  )/)\n",
      "  viendo/NN\n",
      "  oz/NN\n",
      "  ,/,\n",
      "  puede/VBP\n",
      "  sentirse/JJ\n",
      "  cómodo/NN\n",
      "  con/NN\n",
      "  lo/NN\n",
      "  que/NN\n",
      "  es/NN\n",
      "  incómodo/NN\n",
      "  visualización/NN\n",
      "  .../:\n",
      "  eso/CC\n",
      "  es/JJ\n",
      "  si/NN\n",
      "  puedes/NNS\n",
      "  ponerte/VBP\n",
      "  en/FW\n",
      "  contacto/NN\n",
      "  con/NN\n",
      "  tu/NN\n",
      "  lado/NN\n",
      "  más/NN\n",
      "  oscuro/NN\n",
      "  ./.)\n"
     ]
    }
   ],
   "source": [
    "entities = nltk.chunk.ne_chunk(tag) #NER\n",
    "entities.pprint() #ver las entidades nombradas"
   ]
  },
  {
   "attachments": {},
   "cell_type": "markdown",
   "metadata": {},
   "source": [
    "Podemos graficar también un diagrama que nos muestra la frecuencia de repetición de cada palabra dentro de la oración:"
   ]
  },
  {
   "cell_type": "code",
   "execution_count": null,
   "metadata": {},
   "outputs": [
    {
     "data": {
      "image/png": "[encoded data removed]",
      "text/plain": [
       "<Figure size 1500x500 with 1 Axes>"
      ]
     },
     "metadata": {},
     "output_type": "display_data"
    },
    {
     "data": {
      "text/plain": [
       "<Axes: xlabel='Samples', ylabel='Counts'>"
      ]
     },
     "metadata": {},
     "output_type": "display_data"
    }
   ],
   "source": [
    "fd = nltk.FreqDist(words)\n",
    "plt.figure(figsize=(15, 5))\n",
    "fd.plot()"
   ]
  },
  {
   "attachments": {},
   "cell_type": "markdown",
   "metadata": {},
   "source": [
    "Encontramos que la palabra que más se repite es el conector \"de\", esto tiene mucho sentido puesto que es una palabra muy común en el lenguaje."
   ]
  },
  {
   "attachments": {},
   "cell_type": "markdown",
   "metadata": {},
   "source": [
    "## Análisis del sentimiento"
   ]
  },
  {
   "attachments": {},
   "cell_type": "markdown",
   "metadata": {},
   "source": [
    "A partir del texto proporcionado se va a determinar el sentimiento de la oración. NLTK ofrece una implementación del análisis de sentimientos VADER, sin embargo esta solamente sirve para textos en inglés. "
   ]
  },
  {
   "cell_type": "code",
   "execution_count": null,
   "metadata": {},
   "outputs": [],
   "source": [
    "from nltk.sentiment import SentimentIntensityAnalyzer\n",
    "sia=SentimentIntensityAnalyzer() #creación del objeto SentimentIntensityAnalyzer"
   ]
  },
  {
   "attachments": {},
   "cell_type": "markdown",
   "metadata": {},
   "source": [
    "VADER funciona realizando un análisis de la oración y extrae el sentimiento calificandolo de 1 a 0 según la categoría _negativo, neutro o positivo_, por ejemplo:"
   ]
  },
  {
   "cell_type": "code",
   "execution_count": null,
   "metadata": {},
   "outputs": [
    {
     "data": {
      "text/plain": [
       "{'neg': 0.0, 'neu': 0.334, 'pos': 0.666, 'compound': 0.6115}"
      ]
     },
     "metadata": {},
     "output_type": "display_data"
    }
   ],
   "source": [
    "sia.polarity_scores(\"I am so happy\") #análisis de sentimiento"
   ]
  },
  {
   "attachments": {},
   "cell_type": "markdown",
   "metadata": {},
   "source": [
    "Debido a que VADER funciona solamente con textos en inglés se debe realizar el análisis de sentimientos con otra biblioteca. Para esto se elige la bilbioteca **TextBlob** la cual permite realizar un análisis de sentimiento de una forma sencilla traduciendo el texto al idioma inglés y posteriormente analizando la frase."
   ]
  },
  {
   "cell_type": "code",
   "execution_count": null,
   "metadata": {},
   "outputs": [],
   "source": [
    "from textblob import TextBlob"
   ]
  },
  {
   "cell_type": "code",
   "execution_count": null,
   "metadata": {},
   "outputs": [
    {
     "data": {
      "text/plain": [
       "Sentiment(polarity=-0.8, subjectivity=0.9)"
      ]
     },
     "metadata": {},
     "output_type": "display_data"
    }
   ],
   "source": [
    "TextBlob('Odio este producto').translate(from_lang='es',to='en').sentiment"
   ]
  },
  {
   "attachments": {},
   "cell_type": "markdown",
   "metadata": {},
   "source": [
    "El código anterior traduce el texto al idioma inglés y posteriormente realiza el análisis de sentimiento. Da como resultado el parámetro \"polarity\" el cual nos indica que tan positivo o negativa es el texto en una escala de -1 a 1, siendo 1 lo más positivo."
   ]
  },
  {
   "attachments": {},
   "cell_type": "markdown",
   "metadata": {},
   "source": [
    "#### Aplicando el análisis de sentimiento en todo el conjunto de datos"
   ]
  },
  {
   "attachments": {},
   "cell_type": "markdown",
   "metadata": {},
   "source": [
    "Se define la función de análisis de sentimiento:"
   ]
  },
  {
   "cell_type": "code",
   "execution_count": null,
   "metadata": {},
   "outputs": [],
   "source": [
    "def get_polarity(text):\n",
    "  analysis = TextBlob(text)\n",
    "  if text != '':\n",
    "    result = analysis.translate(from_lang = 'es', to = 'en').sentiment.polarity\n",
    "    time.sleep(5)\n",
    "    return result"
   ]
  },
  {
   "cell_type": "code",
   "execution_count": null,
   "metadata": {},
   "outputs": [
    {
     "data": {
      "text/plain": [
       "0        Uno de los otros críticos ha mencionado que de...\n",
       "1        Una pequeña pequeña producción.La técnica de f...\n",
       "2        Pensé que esta era una manera maravillosa de p...\n",
       "3        Básicamente, hay una familia donde un niño peq...\n",
       "4        El \"amor en el tiempo\" de Petter Mattei es una...\n",
       "                               ...                        \n",
       "49995    Pensé que esta película hizo un buen trabajo a...\n",
       "49996    Mala parcela, mal diálogo, mala actuación, dir...\n",
       "49997    Soy católica enseñada en escuelas primarias pa...\n",
       "49998    Voy a tener que estar en desacuerdo con el com...\n",
       "49999    Nadie espera que las películas de Star Trek se...\n",
       "Name: review_es, Length: 50000, dtype: object"
      ]
     },
     "metadata": {},
     "output_type": "display_data"
    }
   ],
   "source": [
    "df['review_es']"
   ]
  },
  {
   "attachments": {},
   "cell_type": "markdown",
   "metadata": {},
   "source": [
    "En este punto, se decide trabajar solamente con el 1% del conjunto de datos puesto que realizar un análisis de sentimiento por cada una de las reviews requiere de grandes recursos computacionales."
   ]
  },
  {
   "cell_type": "code",
   "execution_count": null,
   "metadata": {},
   "outputs": [],
   "source": [
    "df1 = df.sample(frac=0.0001, random_state=123)\n",
    "\n",
    "df1['polarity'] = df1['review_es'].apply(get_polarity)"
   ]
  },
  {
   "cell_type": "code",
   "execution_count": null,
   "metadata": {},
   "outputs": [
    {
     "data": {
      "text/plain": [
       "11872   -0.058333\n",
       "40828    0.198435\n",
       "36400    0.086524\n",
       "5166    -0.010556\n",
       "30273    0.024167\n",
       "Name: polarity, dtype: float64"
      ]
     },
     "metadata": {},
     "output_type": "display_data"
    }
   ],
   "source": [
    "df1['polarity']"
   ]
  },
  {
   "attachments": {},
   "cell_type": "markdown",
   "metadata": {},
   "source": [
    "Se define una función para determinar el sentimiento a partir de la polaridad."
   ]
  },
  {
   "cell_type": "code",
   "execution_count": null,
   "metadata": {},
   "outputs": [],
   "source": [
    "def x_range(x):\n",
    "  if x > 0:\n",
    "    return \"positivo\"\n",
    "  else:\n",
    "    return \"negativo\""
   ]
  },
  {
   "attachments": {},
   "cell_type": "markdown",
   "metadata": {},
   "source": [
    "Se aplica la función:"
   ]
  },
  {
   "cell_type": "code",
   "execution_count": null,
   "metadata": {},
   "outputs": [
    {
     "data": {
      "text/html": [
       "<div>\n",
       "<style scoped>\n",
       "    .dataframe tbody tr th:only-of-type {\n",
       "        vertical-align: middle;\n",
       "    }\n",
       "\n",
       "    .dataframe tbody tr th {\n",
       "        vertical-align: top;\n",
       "    }\n",
       "\n",
       "    .dataframe thead th {\n",
       "        text-align: right;\n",
       "    }\n",
       "</style>\n",
       "<table border=\"1\" class=\"dataframe\">\n",
       "  <thead>\n",
       "    <tr style=\"text-align: right;\">\n",
       "      <th></th>\n",
       "      <th>review_en</th>\n",
       "      <th>review_es</th>\n",
       "      <th>sentiment</th>\n",
       "      <th>sentimiento</th>\n",
       "      <th>reviewlen</th>\n",
       "      <th>polarity</th>\n",
       "      <th>result</th>\n",
       "    </tr>\n",
       "  </thead>\n",
       "  <tbody>\n",
       "    <tr>\n",
       "      <th>11872</th>\n",
       "      <td>This movie was beyond awful, it was a pimple o...</td>\n",
       "      <td>Esta película fue más allá de lo horrible, fue...</td>\n",
       "      <td>negative</td>\n",
       "      <td>negativo</td>\n",
       "      <td>844</td>\n",
       "      <td>-0.058333</td>\n",
       "      <td>negativo</td>\n",
       "    </tr>\n",
       "    <tr>\n",
       "      <th>40828</th>\n",
       "      <td>As of this writing John Carpenter's 'Halloween...</td>\n",
       "      <td>A partir de esto, escribir el 'Halloween' de J...</td>\n",
       "      <td>positive</td>\n",
       "      <td>positivo</td>\n",
       "      <td>1968</td>\n",
       "      <td>0.198435</td>\n",
       "      <td>positivo</td>\n",
       "    </tr>\n",
       "    <tr>\n",
       "      <th>36400</th>\n",
       "      <td>I must admit a slight disappointment with this...</td>\n",
       "      <td>I must admit a slight disappointment with this...</td>\n",
       "      <td>positive</td>\n",
       "      <td>positivo</td>\n",
       "      <td>5097</td>\n",
       "      <td>0.086524</td>\n",
       "      <td>positivo</td>\n",
       "    </tr>\n",
       "    <tr>\n",
       "      <th>5166</th>\n",
       "      <td>Oh dear! The BBC is not about to be knocked of...</td>\n",
       "      <td>Oh dear! The BBC is not about to be knocked of...</td>\n",
       "      <td>negative</td>\n",
       "      <td>negativo</td>\n",
       "      <td>970</td>\n",
       "      <td>-0.010556</td>\n",
       "      <td>negativo</td>\n",
       "    </tr>\n",
       "    <tr>\n",
       "      <th>30273</th>\n",
       "      <td>its a totally average film with a few semi-alr...</td>\n",
       "      <td>Es una película totalmente promedio con alguna...</td>\n",
       "      <td>negative</td>\n",
       "      <td>negativo</td>\n",
       "      <td>791</td>\n",
       "      <td>0.024167</td>\n",
       "      <td>positivo</td>\n",
       "    </tr>\n",
       "  </tbody>\n",
       "</table>\n",
       "</div>"
      ],
      "text/plain": [
       "                                               review_en   \n",
       "11872  This movie was beyond awful, it was a pimple o...  \\\n",
       "40828  As of this writing John Carpenter's 'Halloween...   \n",
       "36400  I must admit a slight disappointment with this...   \n",
       "5166   Oh dear! The BBC is not about to be knocked of...   \n",
       "30273  its a totally average film with a few semi-alr...   \n",
       "\n",
       "                                               review_es sentiment   \n",
       "11872  Esta película fue más allá de lo horrible, fue...  negative  \\\n",
       "40828  A partir de esto, escribir el 'Halloween' de J...  positive   \n",
       "36400  I must admit a slight disappointment with this...  positive   \n",
       "5166   Oh dear! The BBC is not about to be knocked of...  negative   \n",
       "30273  Es una película totalmente promedio con alguna...  negative   \n",
       "\n",
       "      sentimiento  reviewlen  polarity    result  \n",
       "11872    negativo        844 -0.058333  negativo  \n",
       "40828    positivo       1968  0.198435  positivo  \n",
       "36400    positivo       5097  0.086524  positivo  \n",
       "5166     negativo        970 -0.010556  negativo  \n",
       "30273    negativo        791  0.024167  positivo  "
      ]
     },
     "metadata": {},
     "output_type": "display_data"
    }
   ],
   "source": [
    "df1['result'] = df1['polarity'].apply(x_range)\n",
    "df1.head()"
   ]
  },
  {
   "attachments": {},
   "cell_type": "markdown",
   "metadata": {},
   "source": [
    "Podemos observar que clasifico correctamente la mayoría de reviews teniendo en cuenta la columna de \"result\" y comparandola con \"sentimiento\". Realizando un conteo a modo de resumen de la clasificación, encontramos:"
   ]
  },
  {
   "cell_type": "code",
   "execution_count": null,
   "metadata": {},
   "outputs": [
    {
     "data": {
      "text/plain": [
       "result\n",
       "positivo    3\n",
       "negativo    2\n",
       "Name: count, dtype: int64"
      ]
     },
     "metadata": {},
     "output_type": "display_data"
    }
   ],
   "source": [
    "df1['result'].value_counts()"
   ]
  },
  {
   "attachments": {},
   "cell_type": "markdown",
   "metadata": {},
   "source": [
    "Finalmente, podemos calcular el porcentaje de aciertos:"
   ]
  },
  {
   "cell_type": "code",
   "execution_count": null,
   "metadata": {},
   "outputs": [
    {
     "name": "stdout",
     "output_type": "stream",
     "text": [
      "El porcentaje de aciertos es: 80.00%\n"
     ]
    }
   ],
   "source": [
    "# contar cuántas veces el resultado es igual al sentimiento\n",
    "aciertos = df1[df1['sentimiento'] == df1['result']].shape[0]\n",
    "\n",
    "# calcular porcentaje de aciertos\n",
    "porcentaje_aciertos = aciertos / df1.shape[0] * 100\n",
    "\n",
    "# imprimir porcentaje de aciertos\n",
    "print(f'El porcentaje de aciertos es: {porcentaje_aciertos:.2f}%')"
   ]
  },
  {
   "attachments": {},
   "cell_type": "markdown",
   "metadata": {},
   "source": [
    "### Conclusiones finales\n",
    "- El procesamiento de la base de datos de críticas de películas se realizó de manera exitosa.\n",
    "- Los resultados obtenidos al comparar los datos del analisis de sentimiento con TextBlob y los datos reales de sentimiento fueron similares, lo que sugiere que el modelo utilizado fue efectivo en la clasificación de sentimientos.\n",
    "- Las frecuencias de palabras pueden contener muchas palabras comunes del lenguaje, lo que dificulta la obtención de información significativa.\n",
    "- Se recomienda realizar un análisis exhaustivo y profundo que incluya el contexto y la semántica de las palabras para obtener conclusiones más precisas y significativas.\n",
    "- La validación y comparación de los resultados con los datos reales es fundamental para evaluar la precisión y efectividad del modelo utilizado."
   ]
  }
 ],
 "metadata": {
  "language_info": {
   "name": "python"
  },
  "orig_nbformat": 4
 },
 "nbformat": 4,
 "nbformat_minor": 2
}
